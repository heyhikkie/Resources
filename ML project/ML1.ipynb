{
 "cells": [
  {
   "cell_type": "code",
   "execution_count": 41,
   "metadata": {
    "colab": {
     "base_uri": "https://localhost:8080/"
    },
    "id": "7rma4kIT35mB",
    "outputId": "cae61575-9d57-4b9a-b427-efd0480f88cb"
   },
   "outputs": [],
   "source": [
    "import numpy as np\n",
    "import pandas as pd\n",
    "import seaborn as sns\n",
    "import matplotlib.pyplot as plt\n",
    "import pylab\n",
    "import statsmodels.api as sm\n",
    "from sklearn.model_selection import train_test_split\n",
    "from sklearn import metrics\n",
    "import math\n",
    "from statsmodels.tools.eval_measures import rmse\n",
    "\n",
    "from sklearn.ensemble import RandomForestRegressor\n",
    "from sklearn import metrics\n",
    "from sklearn import preprocessing\n",
    "from sklearn.model_selection import GridSearchCV\n",
    "from sklearn.linear_model import LinearRegression\n"
   ]
  },
  {
   "cell_type": "code",
   "execution_count": 42,
   "metadata": {
    "id": "YOE4AM7G4B0y"
   },
   "outputs": [],
   "source": [
    "df = pd.read_csv('uber.csv')"
   ]
  },
  {
   "cell_type": "code",
   "execution_count": 43,
   "metadata": {
    "colab": {
     "base_uri": "https://localhost:8080/",
     "height": 354
    },
    "id": "Rl1VYzW74H28",
    "outputId": "fff0e2c1-9fa2-49f5-bb70-06be7d4c6847"
   },
   "outputs": [
    {
     "data": {
      "text/html": [
       "<div>\n",
       "<style scoped>\n",
       "    .dataframe tbody tr th:only-of-type {\n",
       "        vertical-align: middle;\n",
       "    }\n",
       "\n",
       "    .dataframe tbody tr th {\n",
       "        vertical-align: top;\n",
       "    }\n",
       "\n",
       "    .dataframe thead th {\n",
       "        text-align: right;\n",
       "    }\n",
       "</style>\n",
       "<table border=\"1\" class=\"dataframe\">\n",
       "  <thead>\n",
       "    <tr style=\"text-align: right;\">\n",
       "      <th></th>\n",
       "      <th>Unnamed: 0</th>\n",
       "      <th>key</th>\n",
       "      <th>fare_amount</th>\n",
       "      <th>pickup_datetime</th>\n",
       "      <th>pickup_longitude</th>\n",
       "      <th>pickup_latitude</th>\n",
       "      <th>dropoff_longitude</th>\n",
       "      <th>dropoff_latitude</th>\n",
       "      <th>passenger_count</th>\n",
       "    </tr>\n",
       "  </thead>\n",
       "  <tbody>\n",
       "    <tr>\n",
       "      <th>0</th>\n",
       "      <td>24238194</td>\n",
       "      <td>2015-05-07 19:52:06.0000003</td>\n",
       "      <td>7.5</td>\n",
       "      <td>2015-05-07 19:52:06 UTC</td>\n",
       "      <td>-73.999817</td>\n",
       "      <td>40.738354</td>\n",
       "      <td>-73.999512</td>\n",
       "      <td>40.723217</td>\n",
       "      <td>1</td>\n",
       "    </tr>\n",
       "    <tr>\n",
       "      <th>1</th>\n",
       "      <td>27835199</td>\n",
       "      <td>2009-07-17 20:04:56.0000002</td>\n",
       "      <td>7.7</td>\n",
       "      <td>2009-07-17 20:04:56 UTC</td>\n",
       "      <td>-73.994355</td>\n",
       "      <td>40.728225</td>\n",
       "      <td>-73.994710</td>\n",
       "      <td>40.750325</td>\n",
       "      <td>1</td>\n",
       "    </tr>\n",
       "    <tr>\n",
       "      <th>2</th>\n",
       "      <td>44984355</td>\n",
       "      <td>2009-08-24 21:45:00.00000061</td>\n",
       "      <td>12.9</td>\n",
       "      <td>2009-08-24 21:45:00 UTC</td>\n",
       "      <td>-74.005043</td>\n",
       "      <td>40.740770</td>\n",
       "      <td>-73.962565</td>\n",
       "      <td>40.772647</td>\n",
       "      <td>1</td>\n",
       "    </tr>\n",
       "    <tr>\n",
       "      <th>3</th>\n",
       "      <td>25894730</td>\n",
       "      <td>2009-06-26 08:22:21.0000001</td>\n",
       "      <td>5.3</td>\n",
       "      <td>2009-06-26 08:22:21 UTC</td>\n",
       "      <td>-73.976124</td>\n",
       "      <td>40.790844</td>\n",
       "      <td>-73.965316</td>\n",
       "      <td>40.803349</td>\n",
       "      <td>3</td>\n",
       "    </tr>\n",
       "    <tr>\n",
       "      <th>4</th>\n",
       "      <td>17610152</td>\n",
       "      <td>2014-08-28 17:47:00.000000188</td>\n",
       "      <td>16.0</td>\n",
       "      <td>2014-08-28 17:47:00 UTC</td>\n",
       "      <td>-73.925023</td>\n",
       "      <td>40.744085</td>\n",
       "      <td>-73.973082</td>\n",
       "      <td>40.761247</td>\n",
       "      <td>5</td>\n",
       "    </tr>\n",
       "  </tbody>\n",
       "</table>\n",
       "</div>"
      ],
      "text/plain": [
       "   Unnamed: 0                            key  fare_amount  \\\n",
       "0    24238194    2015-05-07 19:52:06.0000003          7.5   \n",
       "1    27835199    2009-07-17 20:04:56.0000002          7.7   \n",
       "2    44984355   2009-08-24 21:45:00.00000061         12.9   \n",
       "3    25894730    2009-06-26 08:22:21.0000001          5.3   \n",
       "4    17610152  2014-08-28 17:47:00.000000188         16.0   \n",
       "\n",
       "           pickup_datetime  pickup_longitude  pickup_latitude  \\\n",
       "0  2015-05-07 19:52:06 UTC        -73.999817        40.738354   \n",
       "1  2009-07-17 20:04:56 UTC        -73.994355        40.728225   \n",
       "2  2009-08-24 21:45:00 UTC        -74.005043        40.740770   \n",
       "3  2009-06-26 08:22:21 UTC        -73.976124        40.790844   \n",
       "4  2014-08-28 17:47:00 UTC        -73.925023        40.744085   \n",
       "\n",
       "   dropoff_longitude  dropoff_latitude  passenger_count  \n",
       "0         -73.999512         40.723217                1  \n",
       "1         -73.994710         40.750325                1  \n",
       "2         -73.962565         40.772647                1  \n",
       "3         -73.965316         40.803349                3  \n",
       "4         -73.973082         40.761247                5  "
      ]
     },
     "execution_count": 43,
     "metadata": {},
     "output_type": "execute_result"
    }
   ],
   "source": [
    "df.head()"
   ]
  },
  {
   "cell_type": "code",
   "execution_count": 44,
   "metadata": {
    "colab": {
     "base_uri": "https://localhost:8080/",
     "height": 300
    },
    "id": "bFAdxhJG4K1i",
    "outputId": "0a2e9562-416e-4fc1-d0c3-f352421882d6"
   },
   "outputs": [
    {
     "data": {
      "text/html": [
       "<div>\n",
       "<style scoped>\n",
       "    .dataframe tbody tr th:only-of-type {\n",
       "        vertical-align: middle;\n",
       "    }\n",
       "\n",
       "    .dataframe tbody tr th {\n",
       "        vertical-align: top;\n",
       "    }\n",
       "\n",
       "    .dataframe thead th {\n",
       "        text-align: right;\n",
       "    }\n",
       "</style>\n",
       "<table border=\"1\" class=\"dataframe\">\n",
       "  <thead>\n",
       "    <tr style=\"text-align: right;\">\n",
       "      <th></th>\n",
       "      <th>Unnamed: 0</th>\n",
       "      <th>fare_amount</th>\n",
       "      <th>pickup_longitude</th>\n",
       "      <th>pickup_latitude</th>\n",
       "      <th>dropoff_longitude</th>\n",
       "      <th>dropoff_latitude</th>\n",
       "      <th>passenger_count</th>\n",
       "    </tr>\n",
       "  </thead>\n",
       "  <tbody>\n",
       "    <tr>\n",
       "      <th>count</th>\n",
       "      <td>2.000000e+05</td>\n",
       "      <td>200000.000000</td>\n",
       "      <td>200000.000000</td>\n",
       "      <td>200000.000000</td>\n",
       "      <td>199999.000000</td>\n",
       "      <td>199999.000000</td>\n",
       "      <td>200000.000000</td>\n",
       "    </tr>\n",
       "    <tr>\n",
       "      <th>mean</th>\n",
       "      <td>2.771250e+07</td>\n",
       "      <td>11.359955</td>\n",
       "      <td>-72.527638</td>\n",
       "      <td>39.935885</td>\n",
       "      <td>-72.525292</td>\n",
       "      <td>39.923890</td>\n",
       "      <td>1.684535</td>\n",
       "    </tr>\n",
       "    <tr>\n",
       "      <th>std</th>\n",
       "      <td>1.601382e+07</td>\n",
       "      <td>9.901776</td>\n",
       "      <td>11.437787</td>\n",
       "      <td>7.720539</td>\n",
       "      <td>13.117408</td>\n",
       "      <td>6.794829</td>\n",
       "      <td>1.385997</td>\n",
       "    </tr>\n",
       "    <tr>\n",
       "      <th>min</th>\n",
       "      <td>1.000000e+00</td>\n",
       "      <td>-52.000000</td>\n",
       "      <td>-1340.648410</td>\n",
       "      <td>-74.015515</td>\n",
       "      <td>-3356.666300</td>\n",
       "      <td>-881.985513</td>\n",
       "      <td>0.000000</td>\n",
       "    </tr>\n",
       "    <tr>\n",
       "      <th>25%</th>\n",
       "      <td>1.382535e+07</td>\n",
       "      <td>6.000000</td>\n",
       "      <td>-73.992065</td>\n",
       "      <td>40.734796</td>\n",
       "      <td>-73.991407</td>\n",
       "      <td>40.733823</td>\n",
       "      <td>1.000000</td>\n",
       "    </tr>\n",
       "    <tr>\n",
       "      <th>50%</th>\n",
       "      <td>2.774550e+07</td>\n",
       "      <td>8.500000</td>\n",
       "      <td>-73.981823</td>\n",
       "      <td>40.752592</td>\n",
       "      <td>-73.980093</td>\n",
       "      <td>40.753042</td>\n",
       "      <td>1.000000</td>\n",
       "    </tr>\n",
       "    <tr>\n",
       "      <th>75%</th>\n",
       "      <td>4.155530e+07</td>\n",
       "      <td>12.500000</td>\n",
       "      <td>-73.967154</td>\n",
       "      <td>40.767158</td>\n",
       "      <td>-73.963658</td>\n",
       "      <td>40.768001</td>\n",
       "      <td>2.000000</td>\n",
       "    </tr>\n",
       "    <tr>\n",
       "      <th>max</th>\n",
       "      <td>5.542357e+07</td>\n",
       "      <td>499.000000</td>\n",
       "      <td>57.418457</td>\n",
       "      <td>1644.421482</td>\n",
       "      <td>1153.572603</td>\n",
       "      <td>872.697628</td>\n",
       "      <td>208.000000</td>\n",
       "    </tr>\n",
       "  </tbody>\n",
       "</table>\n",
       "</div>"
      ],
      "text/plain": [
       "         Unnamed: 0    fare_amount  pickup_longitude  pickup_latitude  \\\n",
       "count  2.000000e+05  200000.000000     200000.000000    200000.000000   \n",
       "mean   2.771250e+07      11.359955        -72.527638        39.935885   \n",
       "std    1.601382e+07       9.901776         11.437787         7.720539   \n",
       "min    1.000000e+00     -52.000000      -1340.648410       -74.015515   \n",
       "25%    1.382535e+07       6.000000        -73.992065        40.734796   \n",
       "50%    2.774550e+07       8.500000        -73.981823        40.752592   \n",
       "75%    4.155530e+07      12.500000        -73.967154        40.767158   \n",
       "max    5.542357e+07     499.000000         57.418457      1644.421482   \n",
       "\n",
       "       dropoff_longitude  dropoff_latitude  passenger_count  \n",
       "count      199999.000000     199999.000000    200000.000000  \n",
       "mean          -72.525292         39.923890         1.684535  \n",
       "std            13.117408          6.794829         1.385997  \n",
       "min         -3356.666300       -881.985513         0.000000  \n",
       "25%           -73.991407         40.733823         1.000000  \n",
       "50%           -73.980093         40.753042         1.000000  \n",
       "75%           -73.963658         40.768001         2.000000  \n",
       "max          1153.572603        872.697628       208.000000  "
      ]
     },
     "execution_count": 44,
     "metadata": {},
     "output_type": "execute_result"
    }
   ],
   "source": [
    "df.describe()"
   ]
  },
  {
   "cell_type": "code",
   "execution_count": 45,
   "metadata": {
    "colab": {
     "base_uri": "https://localhost:8080/"
    },
    "id": "arEmZcR44NJL",
    "outputId": "ad225598-30a5-4612-9a42-679ab876f33f"
   },
   "outputs": [
    {
     "data": {
      "text/plain": [
       "(200000, 9)"
      ]
     },
     "execution_count": 45,
     "metadata": {},
     "output_type": "execute_result"
    }
   ],
   "source": [
    "df.shape"
   ]
  },
  {
   "cell_type": "code",
   "execution_count": 46,
   "metadata": {
    "colab": {
     "base_uri": "https://localhost:8080/"
    },
    "id": "d8D_hDAY4PYr",
    "outputId": "6db5db6c-8773-40b2-ce5a-d51fc21b0856"
   },
   "outputs": [
    {
     "name": "stdout",
     "output_type": "stream",
     "text": [
      "<class 'pandas.core.frame.DataFrame'>\n",
      "RangeIndex: 200000 entries, 0 to 199999\n",
      "Data columns (total 9 columns):\n",
      " #   Column             Non-Null Count   Dtype  \n",
      "---  ------             --------------   -----  \n",
      " 0   Unnamed: 0         200000 non-null  int64  \n",
      " 1   key                200000 non-null  object \n",
      " 2   fare_amount        200000 non-null  float64\n",
      " 3   pickup_datetime    200000 non-null  object \n",
      " 4   pickup_longitude   200000 non-null  float64\n",
      " 5   pickup_latitude    200000 non-null  float64\n",
      " 6   dropoff_longitude  199999 non-null  float64\n",
      " 7   dropoff_latitude   199999 non-null  float64\n",
      " 8   passenger_count    200000 non-null  int64  \n",
      "dtypes: float64(5), int64(2), object(2)\n",
      "memory usage: 13.7+ MB\n"
     ]
    }
   ],
   "source": [
    "df.info()"
   ]
  },
  {
   "cell_type": "markdown",
   "metadata": {
    "id": "RzOBr5u6hS6P"
   },
   "source": [
    "Data Pre Processing"
   ]
  },
  {
   "cell_type": "code",
   "execution_count": 47,
   "metadata": {
    "colab": {
     "base_uri": "https://localhost:8080/"
    },
    "id": "N912DtsF4ROr",
    "outputId": "2ee543f2-6816-4a1e-d0d6-afbd088e7aeb"
   },
   "outputs": [
    {
     "data": {
      "text/plain": [
       "Unnamed: 0           0\n",
       "key                  0\n",
       "fare_amount          0\n",
       "pickup_datetime      0\n",
       "pickup_longitude     0\n",
       "pickup_latitude      0\n",
       "dropoff_longitude    1\n",
       "dropoff_latitude     1\n",
       "passenger_count      0\n",
       "dtype: int64"
      ]
     },
     "execution_count": 47,
     "metadata": {},
     "output_type": "execute_result"
    }
   ],
   "source": [
    "df.isnull().sum()"
   ]
  },
  {
   "cell_type": "code",
   "execution_count": 48,
   "metadata": {
    "id": "yHttP9R14Tr0"
   },
   "outputs": [],
   "source": [
    "df1 = df.loc[(df.pickup_latitude > 90) |(df.pickup_latitude < -90) |\n",
    "                                   (df.dropoff_latitude > 90) |(df.dropoff_latitude < -90) |\n",
    "                                   (df.pickup_longitude > 180) |(df.pickup_longitude < -180) |\n",
    "                                   (df.dropoff_longitude > 90) |(df.dropoff_longitude < -90)\n",
    "                                    ]"
   ]
  },
  {
   "cell_type": "code",
   "execution_count": 49,
   "metadata": {
    "id": "N2mCjSPL4V37"
   },
   "outputs": [],
   "source": [
    "df.drop(df1, inplace=True, errors=\"ignore\")"
   ]
  },
  {
   "cell_type": "code",
   "execution_count": 50,
   "metadata": {
    "colab": {
     "base_uri": "https://localhost:8080/"
    },
    "id": "r79cgGHA4Xq5",
    "outputId": "441a2479-95d5-4d2c-c971-a3457698ec8f"
   },
   "outputs": [
    {
     "data": {
      "text/plain": [
       "(12, 9)"
      ]
     },
     "execution_count": 50,
     "metadata": {},
     "output_type": "execute_result"
    }
   ],
   "source": [
    "df1.shape"
   ]
  },
  {
   "cell_type": "code",
   "execution_count": 51,
   "metadata": {
    "id": "G4WCmcty4ZjL"
   },
   "outputs": [],
   "source": [
    "#changing the incorrect data type\n",
    "df.pickup_datetime = pd.to_datetime(df.pickup_datetime, errors='coerce')"
   ]
  },
  {
   "cell_type": "code",
   "execution_count": 52,
   "metadata": {
    "colab": {
     "base_uri": "https://localhost:8080/"
    },
    "id": "kv0MIJWM4b6q",
    "outputId": "a0925c0d-407b-41a7-f812-a78f4624ebaf"
   },
   "outputs": [
    {
     "data": {
      "text/plain": [
       "Unnamed: 0             int64\n",
       "key                   object\n",
       "fare_amount          float64\n",
       "pickup_datetime       object\n",
       "pickup_longitude     float64\n",
       "pickup_latitude      float64\n",
       "dropoff_longitude    float64\n",
       "dropoff_latitude     float64\n",
       "passenger_count        int64\n",
       "dtype: object"
      ]
     },
     "execution_count": 52,
     "metadata": {},
     "output_type": "execute_result"
    }
   ],
   "source": [
    "df1.dtypes"
   ]
  },
  {
   "cell_type": "code",
   "execution_count": 53,
   "metadata": {
    "id": "7W_-3IQr4dY1"
   },
   "outputs": [],
   "source": [
    "# we will extract time feature from the 'pickup_datetime' \n",
    "# we will add a variable which measures the distance between pickup and drop\n",
    "\n",
    "df= df.assign(hour = df.pickup_datetime.dt.hour,\n",
    "             day= df.pickup_datetime.dt.day,\n",
    "             month = df.pickup_datetime.dt.month,\n",
    "             year = df.pickup_datetime.dt.year,\n",
    "             dayofweek = df.pickup_datetime.dt.dayofweek)"
   ]
  },
  {
   "cell_type": "markdown",
   "metadata": {
    "id": "5iMUj4xYhYaJ"
   },
   "source": [
    "Haversine Formula"
   ]
  },
  {
   "cell_type": "code",
   "execution_count": 54,
   "metadata": {
    "id": "nU8YgT0H4feL"
   },
   "outputs": [],
   "source": [
    "from math import *"
   ]
  },
  {
   "cell_type": "code",
   "execution_count": 55,
   "metadata": {
    "id": "a3Wn22nf4ibz"
   },
   "outputs": [],
   "source": [
    "def distance_transform(longitude1, latitude1, longitude2, latitude2):\n",
    "    travel_dist = []\n",
    "    \n",
    "    for pos in range(len(longitude1)):\n",
    "        long1,lati1,long2,lati2 = map(radians,[longitude1[pos],latitude1[pos],longitude2[pos],latitude2[pos]])\n",
    "        dist_long = long2 - long1\n",
    "        dist_lati = lati2 - lati1\n",
    "        a = sin(dist_lati/2)**2 + cos(lati1) * cos(lati2) * sin(dist_long/2)**2\n",
    "        c = 2 * asin(sqrt(a))*6371\n",
    "        travel_dist.append(c)\n",
    "       \n",
    "    return travel_dist"
   ]
  },
  {
   "cell_type": "code",
   "execution_count": 56,
   "metadata": {
    "id": "zhc7vGDp4kUK"
   },
   "outputs": [],
   "source": [
    "df['dist_travel_km'] = distance_transform(df['pickup_longitude'].to_numpy(),\n",
    "                                                df['pickup_latitude'].to_numpy(),\n",
    "                                                df['dropoff_longitude'].to_numpy(),\n",
    "                                                df['dropoff_latitude'].to_numpy()\n",
    "                                              )"
   ]
  },
  {
   "cell_type": "code",
   "execution_count": 57,
   "metadata": {
    "id": "yyutN-NA4mT6"
   },
   "outputs": [],
   "source": [
    "df = df.drop('pickup_datetime',axis=1)"
   ]
  },
  {
   "cell_type": "code",
   "execution_count": 58,
   "metadata": {
    "colab": {
     "base_uri": "https://localhost:8080/",
     "height": 457
    },
    "id": "UInPukqX4qOy",
    "outputId": "481c866f-07ec-486e-a452-2ad7ac0ba572"
   },
   "outputs": [
    {
     "data": {
      "text/html": [
       "<div>\n",
       "<style scoped>\n",
       "    .dataframe tbody tr th:only-of-type {\n",
       "        vertical-align: middle;\n",
       "    }\n",
       "\n",
       "    .dataframe tbody tr th {\n",
       "        vertical-align: top;\n",
       "    }\n",
       "\n",
       "    .dataframe thead th {\n",
       "        text-align: right;\n",
       "    }\n",
       "</style>\n",
       "<table border=\"1\" class=\"dataframe\">\n",
       "  <thead>\n",
       "    <tr style=\"text-align: right;\">\n",
       "      <th></th>\n",
       "      <th>count</th>\n",
       "      <th>mean</th>\n",
       "      <th>std</th>\n",
       "      <th>min</th>\n",
       "      <th>25%</th>\n",
       "      <th>50%</th>\n",
       "      <th>75%</th>\n",
       "      <th>max</th>\n",
       "    </tr>\n",
       "  </thead>\n",
       "  <tbody>\n",
       "    <tr>\n",
       "      <th>Unnamed: 0</th>\n",
       "      <td>200000.0</td>\n",
       "      <td>2.771250e+07</td>\n",
       "      <td>1.601382e+07</td>\n",
       "      <td>1.000000</td>\n",
       "      <td>1.382535e+07</td>\n",
       "      <td>2.774550e+07</td>\n",
       "      <td>4.155530e+07</td>\n",
       "      <td>5.542357e+07</td>\n",
       "    </tr>\n",
       "    <tr>\n",
       "      <th>fare_amount</th>\n",
       "      <td>200000.0</td>\n",
       "      <td>1.135996e+01</td>\n",
       "      <td>9.901776e+00</td>\n",
       "      <td>-52.000000</td>\n",
       "      <td>6.000000e+00</td>\n",
       "      <td>8.500000e+00</td>\n",
       "      <td>1.250000e+01</td>\n",
       "      <td>4.990000e+02</td>\n",
       "    </tr>\n",
       "    <tr>\n",
       "      <th>pickup_longitude</th>\n",
       "      <td>200000.0</td>\n",
       "      <td>-7.252764e+01</td>\n",
       "      <td>1.143779e+01</td>\n",
       "      <td>-1340.648410</td>\n",
       "      <td>-7.399206e+01</td>\n",
       "      <td>-7.398182e+01</td>\n",
       "      <td>-7.396715e+01</td>\n",
       "      <td>5.741846e+01</td>\n",
       "    </tr>\n",
       "    <tr>\n",
       "      <th>pickup_latitude</th>\n",
       "      <td>200000.0</td>\n",
       "      <td>3.993589e+01</td>\n",
       "      <td>7.720539e+00</td>\n",
       "      <td>-74.015515</td>\n",
       "      <td>4.073480e+01</td>\n",
       "      <td>4.075259e+01</td>\n",
       "      <td>4.076716e+01</td>\n",
       "      <td>1.644421e+03</td>\n",
       "    </tr>\n",
       "    <tr>\n",
       "      <th>dropoff_longitude</th>\n",
       "      <td>199999.0</td>\n",
       "      <td>-7.252529e+01</td>\n",
       "      <td>1.311741e+01</td>\n",
       "      <td>-3356.666300</td>\n",
       "      <td>-7.399141e+01</td>\n",
       "      <td>-7.398009e+01</td>\n",
       "      <td>-7.396366e+01</td>\n",
       "      <td>1.153573e+03</td>\n",
       "    </tr>\n",
       "    <tr>\n",
       "      <th>dropoff_latitude</th>\n",
       "      <td>199999.0</td>\n",
       "      <td>3.992389e+01</td>\n",
       "      <td>6.794829e+00</td>\n",
       "      <td>-881.985513</td>\n",
       "      <td>4.073382e+01</td>\n",
       "      <td>4.075304e+01</td>\n",
       "      <td>4.076800e+01</td>\n",
       "      <td>8.726976e+02</td>\n",
       "    </tr>\n",
       "    <tr>\n",
       "      <th>passenger_count</th>\n",
       "      <td>200000.0</td>\n",
       "      <td>1.684535e+00</td>\n",
       "      <td>1.385997e+00</td>\n",
       "      <td>0.000000</td>\n",
       "      <td>1.000000e+00</td>\n",
       "      <td>1.000000e+00</td>\n",
       "      <td>2.000000e+00</td>\n",
       "      <td>2.080000e+02</td>\n",
       "    </tr>\n",
       "    <tr>\n",
       "      <th>hour</th>\n",
       "      <td>200000.0</td>\n",
       "      <td>1.349133e+01</td>\n",
       "      <td>6.515531e+00</td>\n",
       "      <td>0.000000</td>\n",
       "      <td>9.000000e+00</td>\n",
       "      <td>1.400000e+01</td>\n",
       "      <td>1.900000e+01</td>\n",
       "      <td>2.300000e+01</td>\n",
       "    </tr>\n",
       "    <tr>\n",
       "      <th>day</th>\n",
       "      <td>200000.0</td>\n",
       "      <td>1.570467e+01</td>\n",
       "      <td>8.687409e+00</td>\n",
       "      <td>1.000000</td>\n",
       "      <td>8.000000e+00</td>\n",
       "      <td>1.600000e+01</td>\n",
       "      <td>2.300000e+01</td>\n",
       "      <td>3.100000e+01</td>\n",
       "    </tr>\n",
       "    <tr>\n",
       "      <th>month</th>\n",
       "      <td>200000.0</td>\n",
       "      <td>6.281795e+00</td>\n",
       "      <td>3.438925e+00</td>\n",
       "      <td>1.000000</td>\n",
       "      <td>3.000000e+00</td>\n",
       "      <td>6.000000e+00</td>\n",
       "      <td>9.000000e+00</td>\n",
       "      <td>1.200000e+01</td>\n",
       "    </tr>\n",
       "    <tr>\n",
       "      <th>year</th>\n",
       "      <td>200000.0</td>\n",
       "      <td>2.011742e+03</td>\n",
       "      <td>1.856397e+00</td>\n",
       "      <td>2009.000000</td>\n",
       "      <td>2.010000e+03</td>\n",
       "      <td>2.012000e+03</td>\n",
       "      <td>2.013000e+03</td>\n",
       "      <td>2.015000e+03</td>\n",
       "    </tr>\n",
       "    <tr>\n",
       "      <th>dayofweek</th>\n",
       "      <td>200000.0</td>\n",
       "      <td>3.048425e+00</td>\n",
       "      <td>1.946946e+00</td>\n",
       "      <td>0.000000</td>\n",
       "      <td>1.000000e+00</td>\n",
       "      <td>3.000000e+00</td>\n",
       "      <td>5.000000e+00</td>\n",
       "      <td>6.000000e+00</td>\n",
       "    </tr>\n",
       "    <tr>\n",
       "      <th>dist_travel_km</th>\n",
       "      <td>199999.0</td>\n",
       "      <td>2.085535e+01</td>\n",
       "      <td>3.829646e+02</td>\n",
       "      <td>0.000000</td>\n",
       "      <td>1.215222e+00</td>\n",
       "      <td>2.120992e+00</td>\n",
       "      <td>3.875169e+00</td>\n",
       "      <td>1.640924e+04</td>\n",
       "    </tr>\n",
       "  </tbody>\n",
       "</table>\n",
       "</div>"
      ],
      "text/plain": [
       "                      count          mean           std          min  \\\n",
       "Unnamed: 0         200000.0  2.771250e+07  1.601382e+07     1.000000   \n",
       "fare_amount        200000.0  1.135996e+01  9.901776e+00   -52.000000   \n",
       "pickup_longitude   200000.0 -7.252764e+01  1.143779e+01 -1340.648410   \n",
       "pickup_latitude    200000.0  3.993589e+01  7.720539e+00   -74.015515   \n",
       "dropoff_longitude  199999.0 -7.252529e+01  1.311741e+01 -3356.666300   \n",
       "dropoff_latitude   199999.0  3.992389e+01  6.794829e+00  -881.985513   \n",
       "passenger_count    200000.0  1.684535e+00  1.385997e+00     0.000000   \n",
       "hour               200000.0  1.349133e+01  6.515531e+00     0.000000   \n",
       "day                200000.0  1.570467e+01  8.687409e+00     1.000000   \n",
       "month              200000.0  6.281795e+00  3.438925e+00     1.000000   \n",
       "year               200000.0  2.011742e+03  1.856397e+00  2009.000000   \n",
       "dayofweek          200000.0  3.048425e+00  1.946946e+00     0.000000   \n",
       "dist_travel_km     199999.0  2.085535e+01  3.829646e+02     0.000000   \n",
       "\n",
       "                            25%           50%           75%           max  \n",
       "Unnamed: 0         1.382535e+07  2.774550e+07  4.155530e+07  5.542357e+07  \n",
       "fare_amount        6.000000e+00  8.500000e+00  1.250000e+01  4.990000e+02  \n",
       "pickup_longitude  -7.399206e+01 -7.398182e+01 -7.396715e+01  5.741846e+01  \n",
       "pickup_latitude    4.073480e+01  4.075259e+01  4.076716e+01  1.644421e+03  \n",
       "dropoff_longitude -7.399141e+01 -7.398009e+01 -7.396366e+01  1.153573e+03  \n",
       "dropoff_latitude   4.073382e+01  4.075304e+01  4.076800e+01  8.726976e+02  \n",
       "passenger_count    1.000000e+00  1.000000e+00  2.000000e+00  2.080000e+02  \n",
       "hour               9.000000e+00  1.400000e+01  1.900000e+01  2.300000e+01  \n",
       "day                8.000000e+00  1.600000e+01  2.300000e+01  3.100000e+01  \n",
       "month              3.000000e+00  6.000000e+00  9.000000e+00  1.200000e+01  \n",
       "year               2.010000e+03  2.012000e+03  2.013000e+03  2.015000e+03  \n",
       "dayofweek          1.000000e+00  3.000000e+00  5.000000e+00  6.000000e+00  \n",
       "dist_travel_km     1.215222e+00  2.120992e+00  3.875169e+00  1.640924e+04  "
      ]
     },
     "execution_count": 58,
     "metadata": {},
     "output_type": "execute_result"
    }
   ],
   "source": [
    "df.describe().transpose()"
   ]
  },
  {
   "cell_type": "code",
   "execution_count": 59,
   "metadata": {
    "colab": {
     "base_uri": "https://localhost:8080/"
    },
    "id": "TCN191s74r1S",
    "outputId": "61b0a433-51f0-40d7-bafa-cec9a57d0f73"
   },
   "outputs": [
    {
     "data": {
      "text/plain": [
       "Index(['key'], dtype='object')"
      ]
     },
     "execution_count": 59,
     "metadata": {},
     "output_type": "execute_result"
    }
   ],
   "source": [
    "df.columns[df.dtypes == 'object']"
   ]
  },
  {
   "cell_type": "markdown",
   "metadata": {
    "id": "J7riG-BZhfq_"
   },
   "source": [
    "Identifying Outliers"
   ]
  },
  {
   "cell_type": "code",
   "execution_count": 60,
   "metadata": {
    "colab": {
     "base_uri": "https://localhost:8080/",
     "height": 165
    },
    "id": "JM16uypt4tuy",
    "outputId": "40c7e355-7be1-48f8-9fc2-a7b91722da8f"
   },
   "outputs": [
    {
     "data": {
      "text/plain": [
       "-52.0"
      ]
     },
     "execution_count": 60,
     "metadata": {},
     "output_type": "execute_result"
    }
   ],
   "source": [
    "df.fare_amount.min()"
   ]
  },
  {
   "cell_type": "code",
   "execution_count": 61,
   "metadata": {
    "colab": {
     "base_uri": "https://localhost:8080/",
     "height": 297
    },
    "id": "6YVYHCzihjS0",
    "outputId": "611a8cc7-aadd-4d1b-dbc4-5e053f0118d1"
   },
   "outputs": [
    {
     "data": {
      "text/plain": [
       "Text(0, 0.5, 'fare_amount')"
      ]
     },
     "execution_count": 61,
     "metadata": {},
     "output_type": "execute_result"
    },
    {
     "data": {
      "image/png": "[encoded data removed]",
      "text/plain": [
       "<Figure size 640x480 with 1 Axes>"
      ]
     },
     "metadata": {},
     "output_type": "display_data"
    }
   ],
   "source": [
    "plt.scatter(df['dist_travel_km'], df['fare_amount'])\n",
    "plt.xlabel('dist_travel_km')\n",
    "plt.ylabel('fare_amount')"
   ]
  },
  {
   "cell_type": "code",
   "execution_count": 62,
   "metadata": {
    "colab": {
     "base_uri": "https://localhost:8080/",
     "height": 729
    },
    "id": "Qi6FeYfA4vVy",
    "outputId": "6601fc21-0733-4716-9860-f347838de72e"
   },
   "outputs": [
    {
     "data": {
      "text/plain": [
       "<AxesSubplot:>"
      ]
     },
     "execution_count": 62,
     "metadata": {},
     "output_type": "execute_result"
    },
    {
     "data": {
      "image/png": "[encoded data removed]",
      "text/plain": [
       "<Figure size 2000x1200 with 1 Axes>"
      ]
     },
     "metadata": {},
     "output_type": "display_data"
    }
   ],
   "source": [
    "plt.figure(figsize=(20,12))\n",
    "sns.boxplot(data= df)"
   ]
  },
  {
   "cell_type": "code",
   "execution_count": null,
   "metadata": {
    "id": "Xmwi3Cmp4xAS"
   },
   "outputs": [],
   "source": []
  },
  {
   "cell_type": "code",
   "execution_count": 88,
   "metadata": {
    "colab": {
     "base_uri": "https://localhost:8080/",
     "height": 895
    },
    "id": "VoYBuESg4zFb",
    "outputId": "db9d3379-d1a0-4cf2-bc3a-da8bd813108e"
   },
   "outputs": [
    {
     "ename": "NameError",
     "evalue": "name 'numeric_column' is not defined",
     "output_type": "error",
     "traceback": [
      "\u001b[1;31m---------------------------------------------------------------------------\u001b[0m",
      "\u001b[1;31mNameError\u001b[0m                                 Traceback (most recent call last)",
      "\u001b[1;32m~\\AppData\\Local\\Temp\\ipykernel_3792\\431414015.py\u001b[0m in \u001b[0;36m<module>\u001b[1;34m\u001b[0m\n\u001b[0;32m      2\u001b[0m \u001b[0mplt\u001b[0m\u001b[1;33m.\u001b[0m\u001b[0mfigure\u001b[0m\u001b[1;33m(\u001b[0m\u001b[0mfigsize\u001b[0m \u001b[1;33m=\u001b[0m\u001b[1;33m(\u001b[0m\u001b[1;36m20\u001b[0m\u001b[1;33m,\u001b[0m \u001b[1;36m30\u001b[0m\u001b[1;33m)\u001b[0m\u001b[1;33m)\u001b[0m\u001b[1;33m\u001b[0m\u001b[1;33m\u001b[0m\u001b[0m\n\u001b[0;32m      3\u001b[0m \u001b[1;33m\u001b[0m\u001b[0m\n\u001b[1;32m----> 4\u001b[1;33m \u001b[1;32mfor\u001b[0m \u001b[0mi\u001b[0m \u001b[1;33m,\u001b[0m \u001b[0mvariable\u001b[0m \u001b[1;32min\u001b[0m \u001b[0menumerate\u001b[0m\u001b[1;33m(\u001b[0m\u001b[0mnumeric_column\u001b[0m\u001b[1;33m)\u001b[0m\u001b[1;33m:\u001b[0m\u001b[1;33m\u001b[0m\u001b[1;33m\u001b[0m\u001b[0m\n\u001b[0m\u001b[0;32m      5\u001b[0m     \u001b[0mplt\u001b[0m\u001b[1;33m.\u001b[0m\u001b[0msubplot\u001b[0m\u001b[1;33m(\u001b[0m\u001b[1;36m6\u001b[0m \u001b[1;33m,\u001b[0m \u001b[1;36m5\u001b[0m\u001b[1;33m,\u001b[0m \u001b[0mi\u001b[0m \u001b[1;33m+\u001b[0m\u001b[1;36m1\u001b[0m\u001b[1;33m)\u001b[0m\u001b[1;33m\u001b[0m\u001b[1;33m\u001b[0m\u001b[0m\n\u001b[0;32m      6\u001b[0m     \u001b[0mplt\u001b[0m\u001b[1;33m.\u001b[0m\u001b[0mboxplot\u001b[0m\u001b[1;33m(\u001b[0m\u001b[0mdf\u001b[0m\u001b[1;33m[\u001b[0m\u001b[0mvariable\u001b[0m\u001b[1;33m]\u001b[0m\u001b[1;33m,\u001b[0m \u001b[0mwhis\u001b[0m\u001b[1;33m=\u001b[0m\u001b[1;36m1.5\u001b[0m\u001b[1;33m)\u001b[0m\u001b[1;33m\u001b[0m\u001b[1;33m\u001b[0m\u001b[0m\n",
      "\u001b[1;31mNameError\u001b[0m: name 'numeric_column' is not defined"
     ]
    },
    {
     "data": {
      "text/plain": [
       "<Figure size 2000x3000 with 0 Axes>"
      ]
     },
     "metadata": {},
     "output_type": "display_data"
    }
   ],
   "source": [
    "# outliers detection using boxplot\n",
    "plt.figure(figsize =(20, 30))\n",
    "\n",
    "for i , variable in enumerate(numeric_column):\n",
    "    plt.subplot(6 , 5, i +1)\n",
    "    plt.boxplot(df[variable], whis=1.5)\n",
    "    plt.tight_layout()\n",
    "    plt.title(variable)\n",
    "    \n",
    "plt.show()"
   ]
  },
  {
   "cell_type": "code",
   "execution_count": 64,
   "metadata": {
    "colab": {
     "base_uri": "https://localhost:8080/"
    },
    "id": "Ty_wPDtw400s",
    "outputId": "75c7fe50-f165-4f21-8a45-d76cd5d5601c"
   },
   "outputs": [
    {
     "data": {
      "text/plain": [
       "(200000, 14)"
      ]
     },
     "execution_count": 64,
     "metadata": {},
     "output_type": "execute_result"
    }
   ],
   "source": [
    "df.shape"
   ]
  },
  {
   "cell_type": "code",
   "execution_count": 65,
   "metadata": {
    "id": "Kc7xnVQc421a"
   },
   "outputs": [],
   "source": [
    "#We will only keep the observation where fare is between 2.5\n",
    "df = df.loc[(df.fare_amount >= 0)]"
   ]
  },
  {
   "cell_type": "code",
   "execution_count": 66,
   "metadata": {
    "colab": {
     "base_uri": "https://localhost:8080/"
    },
    "id": "xqYLrvBg44V6",
    "outputId": "ebb1a118-d14a-4b18-cc6e-af6d3d7f4d24"
   },
   "outputs": [
    {
     "data": {
      "text/plain": [
       "(199983, 14)"
      ]
     },
     "execution_count": 66,
     "metadata": {},
     "output_type": "execute_result"
    }
   ],
   "source": [
    "df.shape"
   ]
  },
  {
   "cell_type": "code",
   "execution_count": 67,
   "metadata": {
    "id": "Hhflkc7z45tY"
   },
   "outputs": [],
   "source": [
    "def remove_outlier(df1 , col):\n",
    "    Q1 = df1[col].quantile(0.25)\n",
    "    Q3 = df1[col].quantile(0.75)\n",
    "    IQR = Q3 - Q1\n",
    "    lower_whisker = Q1-1.5*IQR\n",
    "    upper_whisker = Q3+1.5*IQR\n",
    "    df[col] = np.clip(df1[col] , lower_whisker , upper_whisker)\n",
    "    return df1\n",
    "\n",
    "def treat_outliers_all(df1 , col_list):\n",
    "    for c in col_list:\n",
    "        df1 = remove_outlier(df , c)\n",
    "    return df1"
   ]
  },
  {
   "cell_type": "code",
   "execution_count": 68,
   "metadata": {
    "colab": {
     "base_uri": "https://localhost:8080/"
    },
    "id": "Wgz2c78d47gy",
    "outputId": "8d7fe7e8-b654-41b9-fef8-816fe4407ffb"
   },
   "outputs": [
    {
     "name": "stdout",
     "output_type": "stream",
     "text": [
      "Remaining observastions in the dataset: (199982, 14)\n"
     ]
    }
   ],
   "source": [
    "#We will only keep the observation where travel distance is less than or equal to 130\n",
    "df= df.loc[(df.dist_travel_km >= 1) | (df.dist_travel_km <= 130)]\n",
    "print(\"Remaining observastions in the dataset:\", df.shape)"
   ]
  },
  {
   "cell_type": "markdown",
   "metadata": {
    "id": "FOfiwqFJiXnp"
   },
   "source": [
    "Heat Map"
   ]
  },
  {
   "cell_type": "code",
   "execution_count": 69,
   "metadata": {
    "id": "m9qwNv4849Ty"
   },
   "outputs": [],
   "source": [
    "incorrect_coordinates = df.loc[(df.pickup_latitude > 90) |(df.pickup_latitude < -90) |\n",
    "                                   (df.dropoff_latitude > 90) |(df.dropoff_latitude < -90) |\n",
    "                                   (df.pickup_longitude > 180) |(df.pickup_longitude < -180) |\n",
    "                                   (df.dropoff_longitude > 90) |(df.dropoff_longitude < -90)\n",
    "                                    ]"
   ]
  },
  {
   "cell_type": "code",
   "execution_count": 70,
   "metadata": {
    "id": "jfmLH4j54-3y"
   },
   "outputs": [],
   "source": [
    "df.drop(incorrect_coordinates, inplace = True, errors = 'ignore')"
   ]
  },
  {
   "cell_type": "code",
   "execution_count": 71,
   "metadata": {
    "colab": {
     "base_uri": "https://localhost:8080/",
     "height": 374
    },
    "id": "x5LgGBGV5Asq",
    "outputId": "2faf19c6-315a-46db-b1de-81bc4d0c9b7c"
   },
   "outputs": [
    {
     "data": {
      "text/html": [
       "<div>\n",
       "<style scoped>\n",
       "    .dataframe tbody tr th:only-of-type {\n",
       "        vertical-align: middle;\n",
       "    }\n",
       "\n",
       "    .dataframe tbody tr th {\n",
       "        vertical-align: top;\n",
       "    }\n",
       "\n",
       "    .dataframe thead th {\n",
       "        text-align: right;\n",
       "    }\n",
       "</style>\n",
       "<table border=\"1\" class=\"dataframe\">\n",
       "  <thead>\n",
       "    <tr style=\"text-align: right;\">\n",
       "      <th></th>\n",
       "      <th>Unnamed: 0</th>\n",
       "      <th>key</th>\n",
       "      <th>fare_amount</th>\n",
       "      <th>pickup_longitude</th>\n",
       "      <th>pickup_latitude</th>\n",
       "      <th>dropoff_longitude</th>\n",
       "      <th>dropoff_latitude</th>\n",
       "      <th>passenger_count</th>\n",
       "      <th>hour</th>\n",
       "      <th>day</th>\n",
       "      <th>month</th>\n",
       "      <th>year</th>\n",
       "      <th>dayofweek</th>\n",
       "      <th>dist_travel_km</th>\n",
       "    </tr>\n",
       "  </thead>\n",
       "  <tbody>\n",
       "    <tr>\n",
       "      <th>0</th>\n",
       "      <td>24238194</td>\n",
       "      <td>2015-05-07 19:52:06.0000003</td>\n",
       "      <td>7.5</td>\n",
       "      <td>-73.999817</td>\n",
       "      <td>40.738354</td>\n",
       "      <td>-73.999512</td>\n",
       "      <td>40.723217</td>\n",
       "      <td>1</td>\n",
       "      <td>19</td>\n",
       "      <td>7</td>\n",
       "      <td>5</td>\n",
       "      <td>2015</td>\n",
       "      <td>3</td>\n",
       "      <td>1.683323</td>\n",
       "    </tr>\n",
       "    <tr>\n",
       "      <th>1</th>\n",
       "      <td>27835199</td>\n",
       "      <td>2009-07-17 20:04:56.0000002</td>\n",
       "      <td>7.7</td>\n",
       "      <td>-73.994355</td>\n",
       "      <td>40.728225</td>\n",
       "      <td>-73.994710</td>\n",
       "      <td>40.750325</td>\n",
       "      <td>1</td>\n",
       "      <td>20</td>\n",
       "      <td>17</td>\n",
       "      <td>7</td>\n",
       "      <td>2009</td>\n",
       "      <td>4</td>\n",
       "      <td>2.457590</td>\n",
       "    </tr>\n",
       "    <tr>\n",
       "      <th>2</th>\n",
       "      <td>44984355</td>\n",
       "      <td>2009-08-24 21:45:00.00000061</td>\n",
       "      <td>12.9</td>\n",
       "      <td>-74.005043</td>\n",
       "      <td>40.740770</td>\n",
       "      <td>-73.962565</td>\n",
       "      <td>40.772647</td>\n",
       "      <td>1</td>\n",
       "      <td>21</td>\n",
       "      <td>24</td>\n",
       "      <td>8</td>\n",
       "      <td>2009</td>\n",
       "      <td>0</td>\n",
       "      <td>5.036377</td>\n",
       "    </tr>\n",
       "    <tr>\n",
       "      <th>3</th>\n",
       "      <td>25894730</td>\n",
       "      <td>2009-06-26 08:22:21.0000001</td>\n",
       "      <td>5.3</td>\n",
       "      <td>-73.976124</td>\n",
       "      <td>40.790844</td>\n",
       "      <td>-73.965316</td>\n",
       "      <td>40.803349</td>\n",
       "      <td>3</td>\n",
       "      <td>8</td>\n",
       "      <td>26</td>\n",
       "      <td>6</td>\n",
       "      <td>2009</td>\n",
       "      <td>4</td>\n",
       "      <td>1.661683</td>\n",
       "    </tr>\n",
       "    <tr>\n",
       "      <th>4</th>\n",
       "      <td>17610152</td>\n",
       "      <td>2014-08-28 17:47:00.000000188</td>\n",
       "      <td>16.0</td>\n",
       "      <td>-73.925023</td>\n",
       "      <td>40.744085</td>\n",
       "      <td>-73.973082</td>\n",
       "      <td>40.761247</td>\n",
       "      <td>5</td>\n",
       "      <td>17</td>\n",
       "      <td>28</td>\n",
       "      <td>8</td>\n",
       "      <td>2014</td>\n",
       "      <td>3</td>\n",
       "      <td>4.475450</td>\n",
       "    </tr>\n",
       "  </tbody>\n",
       "</table>\n",
       "</div>"
      ],
      "text/plain": [
       "   Unnamed: 0                            key  fare_amount  pickup_longitude  \\\n",
       "0    24238194    2015-05-07 19:52:06.0000003          7.5        -73.999817   \n",
       "1    27835199    2009-07-17 20:04:56.0000002          7.7        -73.994355   \n",
       "2    44984355   2009-08-24 21:45:00.00000061         12.9        -74.005043   \n",
       "3    25894730    2009-06-26 08:22:21.0000001          5.3        -73.976124   \n",
       "4    17610152  2014-08-28 17:47:00.000000188         16.0        -73.925023   \n",
       "\n",
       "   pickup_latitude  dropoff_longitude  dropoff_latitude  passenger_count  \\\n",
       "0        40.738354         -73.999512         40.723217                1   \n",
       "1        40.728225         -73.994710         40.750325                1   \n",
       "2        40.740770         -73.962565         40.772647                1   \n",
       "3        40.790844         -73.965316         40.803349                3   \n",
       "4        40.744085         -73.973082         40.761247                5   \n",
       "\n",
       "   hour  day  month  year  dayofweek  dist_travel_km  \n",
       "0    19    7      5  2015          3        1.683323  \n",
       "1    20   17      7  2009          4        2.457590  \n",
       "2    21   24      8  2009          0        5.036377  \n",
       "3     8   26      6  2009          4        1.661683  \n",
       "4    17   28      8  2014          3        4.475450  "
      ]
     },
     "execution_count": 71,
     "metadata": {},
     "output_type": "execute_result"
    }
   ],
   "source": [
    "df.head()"
   ]
  },
  {
   "cell_type": "code",
   "execution_count": 72,
   "metadata": {
    "colab": {
     "base_uri": "https://localhost:8080/",
     "height": 488
    },
    "id": "AeoNuipb5CLE",
    "outputId": "d3e2a551-e2e8-42a3-fa36-d9b4686e0ee9"
   },
   "outputs": [
    {
     "data": {
      "text/html": [
       "<div>\n",
       "<style scoped>\n",
       "    .dataframe tbody tr th:only-of-type {\n",
       "        vertical-align: middle;\n",
       "    }\n",
       "\n",
       "    .dataframe tbody tr th {\n",
       "        vertical-align: top;\n",
       "    }\n",
       "\n",
       "    .dataframe thead th {\n",
       "        text-align: right;\n",
       "    }\n",
       "</style>\n",
       "<table border=\"1\" class=\"dataframe\">\n",
       "  <thead>\n",
       "    <tr style=\"text-align: right;\">\n",
       "      <th></th>\n",
       "      <th>Total</th>\n",
       "      <th>Percentage of Missing Values</th>\n",
       "      <th>Type</th>\n",
       "    </tr>\n",
       "  </thead>\n",
       "  <tbody>\n",
       "    <tr>\n",
       "      <th>Unnamed: 0</th>\n",
       "      <td>0</td>\n",
       "      <td>0.0</td>\n",
       "      <td>int64</td>\n",
       "    </tr>\n",
       "    <tr>\n",
       "      <th>key</th>\n",
       "      <td>0</td>\n",
       "      <td>0.0</td>\n",
       "      <td>object</td>\n",
       "    </tr>\n",
       "    <tr>\n",
       "      <th>fare_amount</th>\n",
       "      <td>0</td>\n",
       "      <td>0.0</td>\n",
       "      <td>float64</td>\n",
       "    </tr>\n",
       "    <tr>\n",
       "      <th>pickup_longitude</th>\n",
       "      <td>0</td>\n",
       "      <td>0.0</td>\n",
       "      <td>float64</td>\n",
       "    </tr>\n",
       "    <tr>\n",
       "      <th>pickup_latitude</th>\n",
       "      <td>0</td>\n",
       "      <td>0.0</td>\n",
       "      <td>float64</td>\n",
       "    </tr>\n",
       "    <tr>\n",
       "      <th>dropoff_longitude</th>\n",
       "      <td>0</td>\n",
       "      <td>0.0</td>\n",
       "      <td>float64</td>\n",
       "    </tr>\n",
       "    <tr>\n",
       "      <th>dropoff_latitude</th>\n",
       "      <td>0</td>\n",
       "      <td>0.0</td>\n",
       "      <td>float64</td>\n",
       "    </tr>\n",
       "    <tr>\n",
       "      <th>passenger_count</th>\n",
       "      <td>0</td>\n",
       "      <td>0.0</td>\n",
       "      <td>int64</td>\n",
       "    </tr>\n",
       "    <tr>\n",
       "      <th>hour</th>\n",
       "      <td>0</td>\n",
       "      <td>0.0</td>\n",
       "      <td>int64</td>\n",
       "    </tr>\n",
       "    <tr>\n",
       "      <th>day</th>\n",
       "      <td>0</td>\n",
       "      <td>0.0</td>\n",
       "      <td>int64</td>\n",
       "    </tr>\n",
       "    <tr>\n",
       "      <th>month</th>\n",
       "      <td>0</td>\n",
       "      <td>0.0</td>\n",
       "      <td>int64</td>\n",
       "    </tr>\n",
       "    <tr>\n",
       "      <th>year</th>\n",
       "      <td>0</td>\n",
       "      <td>0.0</td>\n",
       "      <td>int64</td>\n",
       "    </tr>\n",
       "    <tr>\n",
       "      <th>dayofweek</th>\n",
       "      <td>0</td>\n",
       "      <td>0.0</td>\n",
       "      <td>int64</td>\n",
       "    </tr>\n",
       "    <tr>\n",
       "      <th>dist_travel_km</th>\n",
       "      <td>0</td>\n",
       "      <td>0.0</td>\n",
       "      <td>float64</td>\n",
       "    </tr>\n",
       "  </tbody>\n",
       "</table>\n",
       "</div>"
      ],
      "text/plain": [
       "                   Total  Percentage of Missing Values     Type\n",
       "Unnamed: 0             0                           0.0    int64\n",
       "key                    0                           0.0   object\n",
       "fare_amount            0                           0.0  float64\n",
       "pickup_longitude       0                           0.0  float64\n",
       "pickup_latitude        0                           0.0  float64\n",
       "dropoff_longitude      0                           0.0  float64\n",
       "dropoff_latitude       0                           0.0  float64\n",
       "passenger_count        0                           0.0    int64\n",
       "hour                   0                           0.0    int64\n",
       "day                    0                           0.0    int64\n",
       "month                  0                           0.0    int64\n",
       "year                   0                           0.0    int64\n",
       "dayofweek              0                           0.0    int64\n",
       "dist_travel_km         0                           0.0  float64"
      ]
     },
     "execution_count": 72,
     "metadata": {},
     "output_type": "execute_result"
    }
   ],
   "source": [
    "Total = df.isnull().sum().sort_values(ascending = False)\n",
    "\n",
    "Percent = (df.isnull().sum()*100/df.isnull().count()).sort_values(ascending = False) \n",
    "\n",
    "missing_data = pd.concat([Total, Percent], axis = 1, keys = ['Total', 'Percentage of Missing Values'])    \n",
    "\n",
    "missing_data['Type'] = df[missing_data.index].dtypes\n",
    "missing_data"
   ]
  },
  {
   "cell_type": "code",
   "execution_count": 73,
   "metadata": {
    "colab": {
     "base_uri": "https://localhost:8080/",
     "height": 348
    },
    "id": "y-dcHCpu5ENi",
    "outputId": "6d6be5c7-1bbb-4222-d6b7-ac8c18554368"
   },
   "outputs": [
    {
     "data": {
      "image/png": "[encoded data removed]",
      "text/plain": [
       "<Figure size 640x480 with 2 Axes>"
      ]
     },
     "metadata": {},
     "output_type": "display_data"
    }
   ],
   "source": [
    "sns.heatmap(df.isnull())\n",
    "plt.show()"
   ]
  },
  {
   "cell_type": "markdown",
   "metadata": {
    "id": "tlX5hZ2yiewP"
   },
   "source": [
    "Correlation Matrix"
   ]
  },
  {
   "cell_type": "code",
   "execution_count": 74,
   "metadata": {
    "colab": {
     "base_uri": "https://localhost:8080/",
     "height": 538
    },
    "id": "BPMl19Dv5F9B",
    "outputId": "44a54d4e-f462-4e7b-d0ec-e70428149df6"
   },
   "outputs": [
    {
     "data": {
      "text/html": [
       "<div>\n",
       "<style scoped>\n",
       "    .dataframe tbody tr th:only-of-type {\n",
       "        vertical-align: middle;\n",
       "    }\n",
       "\n",
       "    .dataframe tbody tr th {\n",
       "        vertical-align: top;\n",
       "    }\n",
       "\n",
       "    .dataframe thead th {\n",
       "        text-align: right;\n",
       "    }\n",
       "</style>\n",
       "<table border=\"1\" class=\"dataframe\">\n",
       "  <thead>\n",
       "    <tr style=\"text-align: right;\">\n",
       "      <th></th>\n",
       "      <th>Unnamed: 0</th>\n",
       "      <th>fare_amount</th>\n",
       "      <th>pickup_longitude</th>\n",
       "      <th>pickup_latitude</th>\n",
       "      <th>dropoff_longitude</th>\n",
       "      <th>dropoff_latitude</th>\n",
       "      <th>passenger_count</th>\n",
       "      <th>hour</th>\n",
       "      <th>day</th>\n",
       "      <th>month</th>\n",
       "      <th>year</th>\n",
       "      <th>dayofweek</th>\n",
       "      <th>dist_travel_km</th>\n",
       "    </tr>\n",
       "  </thead>\n",
       "  <tbody>\n",
       "    <tr>\n",
       "      <th>Unnamed: 0</th>\n",
       "      <td>1.000000</td>\n",
       "      <td>0.000613</td>\n",
       "      <td>0.000232</td>\n",
       "      <td>-0.000342</td>\n",
       "      <td>0.000296</td>\n",
       "      <td>0.000244</td>\n",
       "      <td>0.002256</td>\n",
       "      <td>0.000038</td>\n",
       "      <td>0.000551</td>\n",
       "      <td>0.001307</td>\n",
       "      <td>-0.001324</td>\n",
       "      <td>-0.004606</td>\n",
       "      <td>-0.000821</td>\n",
       "    </tr>\n",
       "    <tr>\n",
       "      <th>fare_amount</th>\n",
       "      <td>0.000613</td>\n",
       "      <td>1.000000</td>\n",
       "      <td>0.010433</td>\n",
       "      <td>-0.008461</td>\n",
       "      <td>0.009145</td>\n",
       "      <td>-0.011183</td>\n",
       "      <td>0.010411</td>\n",
       "      <td>-0.021434</td>\n",
       "      <td>0.001338</td>\n",
       "      <td>0.023595</td>\n",
       "      <td>0.118491</td>\n",
       "      <td>0.007405</td>\n",
       "      <td>0.025443</td>\n",
       "    </tr>\n",
       "    <tr>\n",
       "      <th>pickup_longitude</th>\n",
       "      <td>0.000232</td>\n",
       "      <td>0.010433</td>\n",
       "      <td>1.000000</td>\n",
       "      <td>-0.816461</td>\n",
       "      <td>0.833093</td>\n",
       "      <td>-0.846401</td>\n",
       "      <td>-0.000411</td>\n",
       "      <td>0.002433</td>\n",
       "      <td>0.005179</td>\n",
       "      <td>-0.004674</td>\n",
       "      <td>0.009973</td>\n",
       "      <td>0.000822</td>\n",
       "      <td>0.105730</td>\n",
       "    </tr>\n",
       "    <tr>\n",
       "      <th>pickup_latitude</th>\n",
       "      <td>-0.000342</td>\n",
       "      <td>-0.008461</td>\n",
       "      <td>-0.816461</td>\n",
       "      <td>1.000000</td>\n",
       "      <td>-0.774849</td>\n",
       "      <td>0.702430</td>\n",
       "      <td>-0.001562</td>\n",
       "      <td>-0.003822</td>\n",
       "      <td>-0.008259</td>\n",
       "      <td>0.004633</td>\n",
       "      <td>-0.010239</td>\n",
       "      <td>-0.002452</td>\n",
       "      <td>-0.062527</td>\n",
       "    </tr>\n",
       "    <tr>\n",
       "      <th>dropoff_longitude</th>\n",
       "      <td>0.000296</td>\n",
       "      <td>0.009145</td>\n",
       "      <td>0.833093</td>\n",
       "      <td>-0.774849</td>\n",
       "      <td>1.000000</td>\n",
       "      <td>-0.916997</td>\n",
       "      <td>-0.000031</td>\n",
       "      <td>0.003455</td>\n",
       "      <td>0.005028</td>\n",
       "      <td>-0.003579</td>\n",
       "      <td>0.008424</td>\n",
       "      <td>0.000043</td>\n",
       "      <td>0.056168</td>\n",
       "    </tr>\n",
       "    <tr>\n",
       "      <th>dropoff_latitude</th>\n",
       "      <td>0.000244</td>\n",
       "      <td>-0.011183</td>\n",
       "      <td>-0.846401</td>\n",
       "      <td>0.702430</td>\n",
       "      <td>-0.916997</td>\n",
       "      <td>1.000000</td>\n",
       "      <td>-0.000591</td>\n",
       "      <td>-0.002520</td>\n",
       "      <td>-0.007806</td>\n",
       "      <td>0.003790</td>\n",
       "      <td>-0.011194</td>\n",
       "      <td>-0.002380</td>\n",
       "      <td>-0.079388</td>\n",
       "    </tr>\n",
       "    <tr>\n",
       "      <th>passenger_count</th>\n",
       "      <td>0.002256</td>\n",
       "      <td>0.010411</td>\n",
       "      <td>-0.000411</td>\n",
       "      <td>-0.001562</td>\n",
       "      <td>-0.000031</td>\n",
       "      <td>-0.000591</td>\n",
       "      <td>1.000000</td>\n",
       "      <td>0.013185</td>\n",
       "      <td>0.003226</td>\n",
       "      <td>0.009813</td>\n",
       "      <td>0.004803</td>\n",
       "      <td>0.033208</td>\n",
       "      <td>-0.001743</td>\n",
       "    </tr>\n",
       "    <tr>\n",
       "      <th>hour</th>\n",
       "      <td>0.000038</td>\n",
       "      <td>-0.021434</td>\n",
       "      <td>0.002433</td>\n",
       "      <td>-0.003822</td>\n",
       "      <td>0.003455</td>\n",
       "      <td>-0.002520</td>\n",
       "      <td>0.013185</td>\n",
       "      <td>1.000000</td>\n",
       "      <td>0.004671</td>\n",
       "      <td>-0.003904</td>\n",
       "      <td>0.002140</td>\n",
       "      <td>-0.086943</td>\n",
       "      <td>-0.000734</td>\n",
       "    </tr>\n",
       "    <tr>\n",
       "      <th>day</th>\n",
       "      <td>0.000551</td>\n",
       "      <td>0.001338</td>\n",
       "      <td>0.005179</td>\n",
       "      <td>-0.008259</td>\n",
       "      <td>0.005028</td>\n",
       "      <td>-0.007806</td>\n",
       "      <td>0.003226</td>\n",
       "      <td>0.004671</td>\n",
       "      <td>1.000000</td>\n",
       "      <td>-0.017380</td>\n",
       "      <td>-0.012128</td>\n",
       "      <td>0.005616</td>\n",
       "      <td>-0.002213</td>\n",
       "    </tr>\n",
       "    <tr>\n",
       "      <th>month</th>\n",
       "      <td>0.001307</td>\n",
       "      <td>0.023595</td>\n",
       "      <td>-0.004674</td>\n",
       "      <td>0.004633</td>\n",
       "      <td>-0.003579</td>\n",
       "      <td>0.003790</td>\n",
       "      <td>0.009813</td>\n",
       "      <td>-0.003904</td>\n",
       "      <td>-0.017380</td>\n",
       "      <td>1.000000</td>\n",
       "      <td>-0.115863</td>\n",
       "      <td>-0.008814</td>\n",
       "      <td>-0.000496</td>\n",
       "    </tr>\n",
       "    <tr>\n",
       "      <th>year</th>\n",
       "      <td>-0.001324</td>\n",
       "      <td>0.118491</td>\n",
       "      <td>0.009973</td>\n",
       "      <td>-0.010239</td>\n",
       "      <td>0.008424</td>\n",
       "      <td>-0.011194</td>\n",
       "      <td>0.004803</td>\n",
       "      <td>0.002140</td>\n",
       "      <td>-0.012128</td>\n",
       "      <td>-0.115863</td>\n",
       "      <td>1.000000</td>\n",
       "      <td>0.006101</td>\n",
       "      <td>0.026217</td>\n",
       "    </tr>\n",
       "    <tr>\n",
       "      <th>dayofweek</th>\n",
       "      <td>-0.004606</td>\n",
       "      <td>0.007405</td>\n",
       "      <td>0.000822</td>\n",
       "      <td>-0.002452</td>\n",
       "      <td>0.000043</td>\n",
       "      <td>-0.002380</td>\n",
       "      <td>0.033208</td>\n",
       "      <td>-0.086943</td>\n",
       "      <td>0.005616</td>\n",
       "      <td>-0.008814</td>\n",
       "      <td>0.006101</td>\n",
       "      <td>1.000000</td>\n",
       "      <td>-0.004370</td>\n",
       "    </tr>\n",
       "    <tr>\n",
       "      <th>dist_travel_km</th>\n",
       "      <td>-0.000821</td>\n",
       "      <td>0.025443</td>\n",
       "      <td>0.105730</td>\n",
       "      <td>-0.062527</td>\n",
       "      <td>0.056168</td>\n",
       "      <td>-0.079388</td>\n",
       "      <td>-0.001743</td>\n",
       "      <td>-0.000734</td>\n",
       "      <td>-0.002213</td>\n",
       "      <td>-0.000496</td>\n",
       "      <td>0.026217</td>\n",
       "      <td>-0.004370</td>\n",
       "      <td>1.000000</td>\n",
       "    </tr>\n",
       "  </tbody>\n",
       "</table>\n",
       "</div>"
      ],
      "text/plain": [
       "                   Unnamed: 0  fare_amount  pickup_longitude  pickup_latitude  \\\n",
       "Unnamed: 0           1.000000     0.000613          0.000232        -0.000342   \n",
       "fare_amount          0.000613     1.000000          0.010433        -0.008461   \n",
       "pickup_longitude     0.000232     0.010433          1.000000        -0.816461   \n",
       "pickup_latitude     -0.000342    -0.008461         -0.816461         1.000000   \n",
       "dropoff_longitude    0.000296     0.009145          0.833093        -0.774849   \n",
       "dropoff_latitude     0.000244    -0.011183         -0.846401         0.702430   \n",
       "passenger_count      0.002256     0.010411         -0.000411        -0.001562   \n",
       "hour                 0.000038    -0.021434          0.002433        -0.003822   \n",
       "day                  0.000551     0.001338          0.005179        -0.008259   \n",
       "month                0.001307     0.023595         -0.004674         0.004633   \n",
       "year                -0.001324     0.118491          0.009973        -0.010239   \n",
       "dayofweek           -0.004606     0.007405          0.000822        -0.002452   \n",
       "dist_travel_km      -0.000821     0.025443          0.105730        -0.062527   \n",
       "\n",
       "                   dropoff_longitude  dropoff_latitude  passenger_count  \\\n",
       "Unnamed: 0                  0.000296          0.000244         0.002256   \n",
       "fare_amount                 0.009145         -0.011183         0.010411   \n",
       "pickup_longitude            0.833093         -0.846401        -0.000411   \n",
       "pickup_latitude            -0.774849          0.702430        -0.001562   \n",
       "dropoff_longitude           1.000000         -0.916997        -0.000031   \n",
       "dropoff_latitude           -0.916997          1.000000        -0.000591   \n",
       "passenger_count            -0.000031         -0.000591         1.000000   \n",
       "hour                        0.003455         -0.002520         0.013185   \n",
       "day                         0.005028         -0.007806         0.003226   \n",
       "month                      -0.003579          0.003790         0.009813   \n",
       "year                        0.008424         -0.011194         0.004803   \n",
       "dayofweek                   0.000043         -0.002380         0.033208   \n",
       "dist_travel_km              0.056168         -0.079388        -0.001743   \n",
       "\n",
       "                       hour       day     month      year  dayofweek  \\\n",
       "Unnamed: 0         0.000038  0.000551  0.001307 -0.001324  -0.004606   \n",
       "fare_amount       -0.021434  0.001338  0.023595  0.118491   0.007405   \n",
       "pickup_longitude   0.002433  0.005179 -0.004674  0.009973   0.000822   \n",
       "pickup_latitude   -0.003822 -0.008259  0.004633 -0.010239  -0.002452   \n",
       "dropoff_longitude  0.003455  0.005028 -0.003579  0.008424   0.000043   \n",
       "dropoff_latitude  -0.002520 -0.007806  0.003790 -0.011194  -0.002380   \n",
       "passenger_count    0.013185  0.003226  0.009813  0.004803   0.033208   \n",
       "hour               1.000000  0.004671 -0.003904  0.002140  -0.086943   \n",
       "day                0.004671  1.000000 -0.017380 -0.012128   0.005616   \n",
       "month             -0.003904 -0.017380  1.000000 -0.115863  -0.008814   \n",
       "year               0.002140 -0.012128 -0.115863  1.000000   0.006101   \n",
       "dayofweek         -0.086943  0.005616 -0.008814  0.006101   1.000000   \n",
       "dist_travel_km    -0.000734 -0.002213 -0.000496  0.026217  -0.004370   \n",
       "\n",
       "                   dist_travel_km  \n",
       "Unnamed: 0              -0.000821  \n",
       "fare_amount              0.025443  \n",
       "pickup_longitude         0.105730  \n",
       "pickup_latitude         -0.062527  \n",
       "dropoff_longitude        0.056168  \n",
       "dropoff_latitude        -0.079388  \n",
       "passenger_count         -0.001743  \n",
       "hour                    -0.000734  \n",
       "day                     -0.002213  \n",
       "month                   -0.000496  \n",
       "year                     0.026217  \n",
       "dayofweek               -0.004370  \n",
       "dist_travel_km           1.000000  "
      ]
     },
     "execution_count": 74,
     "metadata": {},
     "output_type": "execute_result"
    }
   ],
   "source": [
    "corr = df.corr()\n",
    "corr\n"
   ]
  },
  {
   "cell_type": "code",
   "execution_count": 75,
   "metadata": {
    "colab": {
     "base_uri": "https://localhost:8080/",
     "height": 385
    },
    "id": "i2NXLp0L5I9b",
    "outputId": "482f1fda-149e-4320-b662-0b56b0cc59d7"
   },
   "outputs": [
    {
     "data": {
      "image/png": "[encoded data removed]",
      "text/plain": [
       "<Figure size 1000x500 with 2 Axes>"
      ]
     },
     "metadata": {},
     "output_type": "display_data"
    }
   ],
   "source": [
    "plt.figure(figsize = (10,5))\n",
    "\n",
    "mask = np.zeros_like(corr)\n",
    "mask[np.tril_indices_from(mask, k = -1)] = True\n",
    "\n",
    "sns.heatmap(corr, cmap = 'RdYlGn', vmax = 1.0, vmin = -1.0, annot = True, annot_kws = {\"size\": 5}, mask = mask)\n",
    "\n",
    "plt.xticks(fontsize = 8)\n",
    "plt.yticks(fontsize = 10)\n",
    "\n",
    "plt.show()"
   ]
  },
  {
   "cell_type": "markdown",
   "metadata": {
    "id": "zoGgJvQQi4NW"
   },
   "source": [
    "Standardization"
   ]
  },
  {
   "cell_type": "code",
   "execution_count": 76,
   "metadata": {
    "id": "vKwQgzLe5OAh"
   },
   "outputs": [],
   "source": [
    "x=df['dist_travel_km'].values.reshape(-1,1) \n",
    "y=df['fare_amount'].values.reshape(-1,1)"
   ]
  },
  {
   "cell_type": "code",
   "execution_count": 77,
   "metadata": {
    "colab": {
     "base_uri": "https://localhost:8080/"
    },
    "id": "tnSC5Jub5l1i",
    "outputId": "16a9cd99-525b-441f-fd0a-c66fafc4f074"
   },
   "outputs": [
    {
     "name": "stdout",
     "output_type": "stream",
     "text": [
      "[[-0.39024668]\n",
      " [-0.3700387 ]\n",
      " [ 0.15536892]\n",
      " ...\n",
      " [ 1.97408761]\n",
      " [ 0.31703281]\n",
      " [ 0.27661684]]\n",
      "[[-0.05001485]\n",
      " [-0.04799058]\n",
      " [-0.04124851]\n",
      " ...\n",
      " [-0.02081945]\n",
      " [-0.04516143]\n",
      " [-0.04025134]]\n"
     ]
    }
   ],
   "source": [
    "from sklearn.preprocessing import StandardScaler\n",
    "std = StandardScaler()\n",
    "y_std = std.fit_transform(y)\n",
    "print(y_std)\n",
    "x_std = std.fit_transform(x)\n",
    "print(x_std)"
   ]
  },
  {
   "cell_type": "markdown",
   "metadata": {
    "id": "VsivlmsCi-tv"
   },
   "source": [
    "Training and Testing Dataset"
   ]
  },
  {
   "cell_type": "code",
   "execution_count": 78,
   "metadata": {
    "id": "tdKZGcZR6S9h"
   },
   "outputs": [],
   "source": [
    "from sklearn.model_selection import train_test_split\n",
    "x_train, x_test, y_train, y_test=train_test_split(x_std,y_std,test_size=0.2,random_state=0)"
   ]
  },
  {
   "cell_type": "markdown",
   "metadata": {
    "id": "KVQ0NZDxjFOJ"
   },
   "source": [
    "Linear Regression: y(fare_amount) is dependent on x(dist_travel_km)"
   ]
  },
  {
   "cell_type": "code",
   "execution_count": 79,
   "metadata": {
    "colab": {
     "base_uri": "https://localhost:8080/"
    },
    "id": "Kes9ef256Xov",
    "outputId": "7504b41f-5afd-4aa8-a7c8-0b7eb03d1f16"
   },
   "outputs": [
    {
     "name": "stdout",
     "output_type": "stream",
     "text": [
      "Training set score:  0.00\n",
      "Testing set score:  0.0008156\n"
     ]
    }
   ],
   "source": [
    "from sklearn.linear_model import LinearRegression\n",
    "l_reg = LinearRegression()\n",
    "l_reg.fit(x_train, y_train)\n",
    "\n",
    "print(\"Training set score: {: .2f}\".format(l_reg.score(x_train, y_train)))\n",
    "print(\"Testing set score: {: .7f}\".format(l_reg.score(x_train, y_train)))"
   ]
  },
  {
   "cell_type": "code",
   "execution_count": 80,
   "metadata": {
    "colab": {
     "base_uri": "https://localhost:8080/"
    },
    "id": "M1kMb5ay6mZf",
    "outputId": "8d964997-d2d4-4d96-d059-a6db86c5d9af"
   },
   "outputs": [
    {
     "data": {
      "text/plain": [
       "array([[0.028455]])"
      ]
     },
     "execution_count": 80,
     "metadata": {},
     "output_type": "execute_result"
    }
   ],
   "source": [
    "l_reg.coef_"
   ]
  },
  {
   "cell_type": "code",
   "execution_count": 81,
   "metadata": {
    "colab": {
     "base_uri": "https://localhost:8080/"
    },
    "id": "-U9ugvKo70gt",
    "outputId": "7456f976-fd09-43d1-d630-67434f57ec15"
   },
   "outputs": [
    {
     "data": {
      "text/plain": [
       "array([0.00047722])"
      ]
     },
     "execution_count": 81,
     "metadata": {},
     "output_type": "execute_result"
    }
   ],
   "source": [
    "l_reg.intercept_"
   ]
  },
  {
   "cell_type": "code",
   "execution_count": 83,
   "metadata": {
    "colab": {
     "base_uri": "https://localhost:8080/",
     "height": 183
    },
    "id": "gzfiel8Ef7zn",
    "outputId": "477b6cc9-9863-4f76-813b-52c714dc3f7d"
   },
   "outputs": [
    {
     "data": {
      "image/png": "[encoded data removed]",
      "text/plain": [
       "<Figure size 640x480 with 2 Axes>"
      ]
     },
     "metadata": {},
     "output_type": "display_data"
    }
   ],
   "source": [
    "plt.subplot(2, 2, 1)\n",
    "plt.scatter(x_train, y_train, color='red')\n",
    "plt.plot(x_train, l_reg.predict(x_train), color='blue')\n",
    "plt.title(\"Fare vs Distance (Training Set\")\n",
    "plt.ylabel(\"fare_amount\")\n",
    "plt.xlabel(\"dist_travel_km\")\n",
    "\n",
    "plt.subplot(2, 2, 2)\n",
    "plt.scatter(x_test, y_test, color='red')\n",
    "plt.plot(x_train, l_reg.predict(x_train), color='blue')\n",
    "plt.title(\"Fare vs Distance (Testing Set\")\n",
    "plt.ylabel(\"fare_amount\")\n",
    "plt.xlabel(\"dist_travel_km\")\n",
    "\n",
    "plt.tight_layout()\n",
    "plt.show()"
   ]
  },
  {
   "cell_type": "markdown",
   "metadata": {
    "id": "qFIDkUyvjVIm"
   },
   "source": [
    "Predicting Values of y"
   ]
  },
  {
   "cell_type": "code",
   "execution_count": 84,
   "metadata": {
    "colab": {
     "base_uri": "https://localhost:8080/",
     "height": 363
    },
    "id": "DT1LC4Z4-XYe",
    "outputId": "415e3280-dda3-415d-eef5-338d9bc2eac3"
   },
   "outputs": [
    {
     "data": {
      "text/html": [
       "<div>\n",
       "<style scoped>\n",
       "    .dataframe tbody tr th:only-of-type {\n",
       "        vertical-align: middle;\n",
       "    }\n",
       "\n",
       "    .dataframe tbody tr th {\n",
       "        vertical-align: top;\n",
       "    }\n",
       "\n",
       "    .dataframe thead th {\n",
       "        text-align: right;\n",
       "    }\n",
       "</style>\n",
       "<table border=\"1\" class=\"dataframe\">\n",
       "  <thead>\n",
       "    <tr style=\"text-align: right;\">\n",
       "      <th></th>\n",
       "      <th>Actual</th>\n",
       "      <th>Predicted</th>\n",
       "    </tr>\n",
       "  </thead>\n",
       "  <tbody>\n",
       "    <tr>\n",
       "      <th>36822</th>\n",
       "      <td>0.569633</td>\n",
       "      <td>-0.000638</td>\n",
       "    </tr>\n",
       "    <tr>\n",
       "      <th>29281</th>\n",
       "      <td>0.620153</td>\n",
       "      <td>-0.000810</td>\n",
       "    </tr>\n",
       "    <tr>\n",
       "      <th>18108</th>\n",
       "      <td>1.748769</td>\n",
       "      <td>-0.000244</td>\n",
       "    </tr>\n",
       "    <tr>\n",
       "      <th>9340</th>\n",
       "      <td>0.438281</td>\n",
       "      <td>-0.000563</td>\n",
       "    </tr>\n",
       "    <tr>\n",
       "      <th>8008</th>\n",
       "      <td>-0.390247</td>\n",
       "      <td>-0.000926</td>\n",
       "    </tr>\n",
       "    <tr>\n",
       "      <th>26547</th>\n",
       "      <td>-0.137647</td>\n",
       "      <td>-0.000953</td>\n",
       "    </tr>\n",
       "    <tr>\n",
       "      <th>10827</th>\n",
       "      <td>-0.814614</td>\n",
       "      <td>-0.001005</td>\n",
       "    </tr>\n",
       "    <tr>\n",
       "      <th>17307</th>\n",
       "      <td>-0.006295</td>\n",
       "      <td>-0.000897</td>\n",
       "    </tr>\n",
       "    <tr>\n",
       "      <th>28720</th>\n",
       "      <td>0.155369</td>\n",
       "      <td>-0.000845</td>\n",
       "    </tr>\n",
       "    <tr>\n",
       "      <th>13084</th>\n",
       "      <td>0.064433</td>\n",
       "      <td>-0.000903</td>\n",
       "    </tr>\n",
       "  </tbody>\n",
       "</table>\n",
       "</div>"
      ],
      "text/plain": [
       "         Actual  Predicted\n",
       "36822  0.569633  -0.000638\n",
       "29281  0.620153  -0.000810\n",
       "18108  1.748769  -0.000244\n",
       "9340   0.438281  -0.000563\n",
       "8008  -0.390247  -0.000926\n",
       "26547 -0.137647  -0.000953\n",
       "10827 -0.814614  -0.001005\n",
       "17307 -0.006295  -0.000897\n",
       "28720  0.155369  -0.000845\n",
       "13084  0.064433  -0.000903"
      ]
     },
     "execution_count": 84,
     "metadata": {},
     "output_type": "execute_result"
    }
   ],
   "source": [
    "y_pred = l_reg.predict(x_test)\n",
    "\n",
    "result = pd.DataFrame()\n",
    "result[['Actual']] = y_test\n",
    "result[['Predicted']] = y_pred\n",
    "\n",
    "result.sample(10)"
   ]
  },
  {
   "cell_type": "code",
   "execution_count": 85,
   "metadata": {
    "colab": {
     "base_uri": "https://localhost:8080/"
    },
    "id": "ZbfEOzyr_Crb",
    "outputId": "0bcc5ab7-c37e-47a2-ff1b-4245e2672b82"
   },
   "outputs": [
    {
     "name": "stdout",
     "output_type": "stream",
     "text": [
      "Mean Absolute Error: 0.6103202010027623\n",
      "Mean Absolute % Error: 1.004288822635727\n",
      "Mean Squared Error: 1.0045770088281933\n",
      "Root Mean Squared Error: 1.0022858917635193\n",
      "R Squared: nan\n"
     ]
    },
    {
     "name": "stderr",
     "output_type": "stream",
     "text": [
      "C:\\Users\\saura\\AppData\\Local\\Temp\\ipykernel_3792\\1482232862.py:5: RuntimeWarning: invalid value encountered in sqrt\n",
      "  print('R Squared:', np.sqrt(metrics.r2_score(y_test, y_pred)))\n"
     ]
    }
   ],
   "source": [
    "print('Mean Absolute Error:', metrics.mean_absolute_error(y_test, y_pred))\n",
    "print('Mean Absolute % Error:', metrics.mean_absolute_percentage_error(y_test, y_pred))\n",
    "print('Mean Squared Error:', metrics.mean_squared_error(y_test, y_pred))\n",
    "print('Root Mean Squared Error:', np.sqrt(metrics.mean_squared_error(y_test, y_pred)))\n",
    "print('R Squared:', np.sqrt(metrics.r2_score(y_test, y_pred)))"
   ]
  },
  {
   "cell_type": "code",
   "execution_count": 86,
   "metadata": {
    "colab": {
     "base_uri": "https://localhost:8080/",
     "height": 81
    },
    "id": "SVuJKGAfBDMI",
    "outputId": "4494aad3-5ace-4ad7-b150-4b2524eb7fea"
   },
   "outputs": [
    {
     "name": "stderr",
     "output_type": "stream",
     "text": [
      "C:\\Users\\saura\\AppData\\Local\\Temp\\ipykernel_3792\\531526522.py:7: RuntimeWarning: invalid value encountered in sqrt\n",
      "  np.sqrt(metrics.r2_score(y_test, y_pred))\n"
     ]
    },
    {
     "data": {
      "text/html": [
       "<div>\n",
       "<style scoped>\n",
       "    .dataframe tbody tr th:only-of-type {\n",
       "        vertical-align: middle;\n",
       "    }\n",
       "\n",
       "    .dataframe tbody tr th {\n",
       "        vertical-align: top;\n",
       "    }\n",
       "\n",
       "    .dataframe thead th {\n",
       "        text-align: right;\n",
       "    }\n",
       "</style>\n",
       "<table border=\"1\" class=\"dataframe\">\n",
       "  <thead>\n",
       "    <tr style=\"text-align: right;\">\n",
       "      <th></th>\n",
       "      <th>Model</th>\n",
       "      <th>RMSE</th>\n",
       "      <th>R-Squared</th>\n",
       "    </tr>\n",
       "  </thead>\n",
       "  <tbody>\n",
       "    <tr>\n",
       "      <th>0</th>\n",
       "      <td>Linear Regression Model</td>\n",
       "      <td>1.002286</td>\n",
       "      <td>NaN</td>\n",
       "    </tr>\n",
       "  </tbody>\n",
       "</table>\n",
       "</div>"
      ],
      "text/plain": [
       "                     Model      RMSE  R-Squared\n",
       "0  Linear Regression Model  1.002286        NaN"
      ]
     },
     "execution_count": 86,
     "metadata": {},
     "output_type": "execute_result"
    }
   ],
   "source": [
    "cols = ['Model', 'RMSE', 'R-Squared']\n",
    "\n",
    "result_tabulation = pd.DataFrame(columns = cols)\n",
    "linreg_metrics = pd.DataFrame([[\n",
    "    \"Linear Regression Model\",\n",
    "    np.sqrt(metrics.mean_squared_error(y_test, y_pred)),\n",
    "    np.sqrt(metrics.r2_score(y_test, y_pred))\n",
    "    ]], columns = cols)\n",
    "\n",
    "result_tabulation = pd.concat([result_tabulation, linreg_metrics], ignore_index = True)\n",
    "\n",
    "result_tabulation"
   ]
  },
  {
   "cell_type": "markdown",
   "metadata": {
    "id": "9lGlyb9UjdrD"
   },
   "source": [
    "Random Forest Regression"
   ]
  },
  {
   "cell_type": "code",
   "execution_count": null,
   "metadata": {
    "colab": {
     "base_uri": "https://localhost:8080/"
    },
    "id": "V7vhnsalDLHl",
    "outputId": "1bad4645-7122-4986-8d01-db23771b9517"
   },
   "outputs": [
    {
     "name": "stderr",
     "output_type": "stream",
     "text": [
      "/usr/local/lib/python3.7/dist-packages/ipykernel_launcher.py:5: DataConversionWarning: A column-vector y was passed when a 1d array was expected. Please change the shape of y to (n_samples,), for example using ravel().\n",
      "  \"\"\"\n"
     ]
    },
    {
     "data": {
      "text/plain": [
       "RandomForestRegressor(random_state=10)"
      ]
     },
     "execution_count": 50,
     "metadata": {},
     "output_type": "execute_result"
    }
   ],
   "source": [
    "from sklearn.ensemble import RandomForestRegressor\n",
    "\n",
    "rf_reg = RandomForestRegressor(n_estimators=100, random_state=10)\n",
    "\n",
    "rf_reg.fit(x_train, y_train)"
   ]
  },
  {
   "cell_type": "code",
   "execution_count": null,
   "metadata": {
    "colab": {
     "base_uri": "https://localhost:8080/",
     "height": 363
    },
    "id": "kuuiMBz9DYFU",
    "outputId": "27b7965c-7a95-4e3a-8736-f1f2309dc71e"
   },
   "outputs": [
    {
     "data": {
      "text/html": [
       "\n",
       "  <div id=\"df-03263c62-283c-447c-9a9c-f2487668273e\">\n",
       "    <div class=\"colab-df-container\">\n",
       "      <div>\n",
       "<style scoped>\n",
       "    .dataframe tbody tr th:only-of-type {\n",
       "        vertical-align: middle;\n",
       "    }\n",
       "\n",
       "    .dataframe tbody tr th {\n",
       "        vertical-align: top;\n",
       "    }\n",
       "\n",
       "    .dataframe thead th {\n",
       "        text-align: right;\n",
       "    }\n",
       "</style>\n",
       "<table border=\"1\" class=\"dataframe\">\n",
       "  <thead>\n",
       "    <tr style=\"text-align: right;\">\n",
       "      <th></th>\n",
       "      <th>Actual</th>\n",
       "      <th>Predicted</th>\n",
       "    </tr>\n",
       "  </thead>\n",
       "  <tbody>\n",
       "    <tr>\n",
       "      <th>39719</th>\n",
       "      <td>-0.188173</td>\n",
       "      <td>-0.203107</td>\n",
       "    </tr>\n",
       "    <tr>\n",
       "      <th>39620</th>\n",
       "      <td>-0.693372</td>\n",
       "      <td>-0.552089</td>\n",
       "    </tr>\n",
       "    <tr>\n",
       "      <th>19934</th>\n",
       "      <td>-0.248797</td>\n",
       "      <td>-0.530586</td>\n",
       "    </tr>\n",
       "    <tr>\n",
       "      <th>17162</th>\n",
       "      <td>-0.572124</td>\n",
       "      <td>-0.350533</td>\n",
       "    </tr>\n",
       "    <tr>\n",
       "      <th>5137</th>\n",
       "      <td>-0.036613</td>\n",
       "      <td>0.141106</td>\n",
       "    </tr>\n",
       "    <tr>\n",
       "      <th>20626</th>\n",
       "      <td>-0.814619</td>\n",
       "      <td>-0.606253</td>\n",
       "    </tr>\n",
       "    <tr>\n",
       "      <th>17963</th>\n",
       "      <td>-0.794412</td>\n",
       "      <td>-0.786497</td>\n",
       "    </tr>\n",
       "    <tr>\n",
       "      <th>9302</th>\n",
       "      <td>-0.531708</td>\n",
       "      <td>-0.360090</td>\n",
       "    </tr>\n",
       "    <tr>\n",
       "      <th>2375</th>\n",
       "      <td>-0.289213</td>\n",
       "      <td>0.132640</td>\n",
       "    </tr>\n",
       "    <tr>\n",
       "      <th>5750</th>\n",
       "      <td>-0.642852</td>\n",
       "      <td>-0.701514</td>\n",
       "    </tr>\n",
       "  </tbody>\n",
       "</table>\n",
       "</div>\n",
       "      <button class=\"colab-df-convert\" onclick=\"convertToInteractive('df-03263c62-283c-447c-9a9c-f2487668273e')\"\n",
       "              title=\"Convert this dataframe to an interactive table.\"\n",
       "              style=\"display:none;\">\n",
       "        \n",
       "  <svg xmlns=\"http://www.w3.org/2000/svg\" height=\"24px\"viewBox=\"0 0 24 24\"\n",
       "       width=\"24px\">\n",
       "    <path d=\"M0 0h24v24H0V0z\" fill=\"none\"/>\n",
       "    <path d=\"M18.56 5.44l.94 2.06.94-2.06 2.06-.94-2.06-.94-.94-2.06-.94 2.06-2.06.94zm-11 1L8.5 8.5l.94-2.06 2.06-.94-2.06-.94L8.5 2.5l-.94 2.06-2.06.94zm10 10l.94 2.06.94-2.06 2.06-.94-2.06-.94-.94-2.06-.94 2.06-2.06.94z\"/><path d=\"M17.41 7.96l-1.37-1.37c-.4-.4-.92-.59-1.43-.59-.52 0-1.04.2-1.43.59L10.3 9.45l-7.72 7.72c-.78.78-.78 2.05 0 2.83L4 21.41c.39.39.9.59 1.41.59.51 0 1.02-.2 1.41-.59l7.78-7.78 2.81-2.81c.8-.78.8-2.07 0-2.86zM5.41 20L4 18.59l7.72-7.72 1.47 1.35L5.41 20z\"/>\n",
       "  </svg>\n",
       "      </button>\n",
       "      \n",
       "  <style>\n",
       "    .colab-df-container {\n",
       "      display:flex;\n",
       "      flex-wrap:wrap;\n",
       "      gap: 12px;\n",
       "    }\n",
       "\n",
       "    .colab-df-convert {\n",
       "      background-color: #E8F0FE;\n",
       "      border: none;\n",
       "      border-radius: 50%;\n",
       "      cursor: pointer;\n",
       "      display: none;\n",
       "      fill: #1967D2;\n",
       "      height: 32px;\n",
       "      padding: 0 0 0 0;\n",
       "      width: 32px;\n",
       "    }\n",
       "\n",
       "    .colab-df-convert:hover {\n",
       "      background-color: #E2EBFA;\n",
       "      box-shadow: 0px 1px 2px rgba(60, 64, 67, 0.3), 0px 1px 3px 1px rgba(60, 64, 67, 0.15);\n",
       "      fill: #174EA6;\n",
       "    }\n",
       "\n",
       "    [theme=dark] .colab-df-convert {\n",
       "      background-color: #3B4455;\n",
       "      fill: #D2E3FC;\n",
       "    }\n",
       "\n",
       "    [theme=dark] .colab-df-convert:hover {\n",
       "      background-color: #434B5C;\n",
       "      box-shadow: 0px 1px 3px 1px rgba(0, 0, 0, 0.15);\n",
       "      filter: drop-shadow(0px 1px 2px rgba(0, 0, 0, 0.3));\n",
       "      fill: #FFFFFF;\n",
       "    }\n",
       "  </style>\n",
       "\n",
       "      <script>\n",
       "        const buttonEl =\n",
       "          document.querySelector('#df-03263c62-283c-447c-9a9c-f2487668273e button.colab-df-convert');\n",
       "        buttonEl.style.display =\n",
       "          google.colab.kernel.accessAllowed ? 'block' : 'none';\n",
       "\n",
       "        async function convertToInteractive(key) {\n",
       "          const element = document.querySelector('#df-03263c62-283c-447c-9a9c-f2487668273e');\n",
       "          const dataTable =\n",
       "            await google.colab.kernel.invokeFunction('convertToInteractive',\n",
       "                                                     [key], {});\n",
       "          if (!dataTable) return;\n",
       "\n",
       "          const docLinkHtml = 'Like what you see? Visit the ' +\n",
       "            '<a target=\"_blank\" href=https://colab.research.google.com/notebooks/data_table.ipynb>data table notebook</a>'\n",
       "            + ' to learn more about interactive tables.';\n",
       "          element.innerHTML = '';\n",
       "          dataTable['output_type'] = 'display_data';\n",
       "          await google.colab.output.renderOutput(dataTable, element);\n",
       "          const docLink = document.createElement('div');\n",
       "          docLink.innerHTML = docLinkHtml;\n",
       "          element.appendChild(docLink);\n",
       "        }\n",
       "      </script>\n",
       "    </div>\n",
       "  </div>\n",
       "  "
      ],
      "text/plain": [
       "         Actual  Predicted\n",
       "39719 -0.188173  -0.203107\n",
       "39620 -0.693372  -0.552089\n",
       "19934 -0.248797  -0.530586\n",
       "17162 -0.572124  -0.350533\n",
       "5137  -0.036613   0.141106\n",
       "20626 -0.814619  -0.606253\n",
       "17963 -0.794412  -0.786497\n",
       "9302  -0.531708  -0.360090\n",
       "2375  -0.289213   0.132640\n",
       "5750  -0.642852  -0.701514"
      ]
     },
     "execution_count": 51,
     "metadata": {},
     "output_type": "execute_result"
    }
   ],
   "source": [
    "y_pred_RF = rf_reg.predict(x_test)\n",
    "\n",
    "result = pd.DataFrame()\n",
    "result[['Actual']] = y_test\n",
    "result['Predicted'] = y_pred_RF\n",
    "\n",
    "result.sample(10)"
   ]
  },
  {
   "cell_type": "code",
   "execution_count": null,
   "metadata": {
    "colab": {
     "base_uri": "https://localhost:8080/"
    },
    "id": "nrUzvs-pDqek",
    "outputId": "7570fc00-e1b8-4189-9b47-bf9a2bc9f26b"
   },
   "outputs": [
    {
     "name": "stdout",
     "output_type": "stream",
     "text": [
      "Mean Absolute Error: 0.292256936882393\n",
      "Mean Absolute % Error: 1.4933662725978671\n",
      "Mean Squared Error: 0.35782597029481766\n",
      "Root Mean Squared Error: 0.5981855651006781\n",
      "R Squared: 0.8038332195242018\n"
     ]
    }
   ],
   "source": [
    "print('Mean Absolute Error:', metrics.mean_absolute_error(y_test, y_pred_RF))\n",
    "print('Mean Absolute % Error:', metrics.mean_absolute_percentage_error(y_test, y_pred_RF))\n",
    "print('Mean Squared Error:', metrics.mean_squared_error(y_test, y_pred_RF))\n",
    "print('Root Mean Squared Error:', np.sqrt(metrics.mean_squared_error(y_test, y_pred_RF)))\n",
    "print('R Squared:', np.sqrt(metrics.r2_score(y_test, y_pred_RF)))"
   ]
  },
  {
   "cell_type": "code",
   "execution_count": null,
   "metadata": {
    "colab": {
     "base_uri": "https://localhost:8080/",
     "height": 297
    },
    "id": "M9xFDIQwExbe",
    "outputId": "03a35de3-9814-4346-9b77-df4ab1ca42f5"
   },
   "outputs": [
    {
     "data": {
      "image/png": "[encoded data removed]",
      "text/plain": [
       "<Figure size 432x288 with 1 Axes>"
      ]
     },
     "metadata": {
      "needs_background": "light"
     },
     "output_type": "display_data"
    }
   ],
   "source": [
    "plt.scatter(x_test, y_test, c='b', alpha= 0.5, marker='.', label='Actual')\n",
    "plt.scatter(x_test, y_pred_RF, c='r', alpha= 0.5, marker='.', label='Predicted')\n",
    "plt.xlabel('Carat')\n",
    "plt.ylabel('Price')\n",
    "plt.grid(color = '#D3D3D3', linestyle = 'solid')\n",
    "plt.legend(loc = 'lower right')\n",
    "\n",
    "plt.tight_layout()\n",
    "plt.show()"
   ]
  },
  {
   "cell_type": "code",
   "execution_count": null,
   "metadata": {
    "colab": {
     "base_uri": "https://localhost:8080/",
     "height": 112
    },
    "id": "iZFxSLOnF8g0",
    "outputId": "7d967da7-d622-439c-cfba-3fe90f0225ba"
   },
   "outputs": [
    {
     "data": {
      "text/html": [
       "\n",
       "  <div id=\"df-20d851cf-84c3-45c2-81de-184ae242e948\">\n",
       "    <div class=\"colab-df-container\">\n",
       "      <div>\n",
       "<style scoped>\n",
       "    .dataframe tbody tr th:only-of-type {\n",
       "        vertical-align: middle;\n",
       "    }\n",
       "\n",
       "    .dataframe tbody tr th {\n",
       "        vertical-align: top;\n",
       "    }\n",
       "\n",
       "    .dataframe thead th {\n",
       "        text-align: right;\n",
       "    }\n",
       "</style>\n",
       "<table border=\"1\" class=\"dataframe\">\n",
       "  <thead>\n",
       "    <tr style=\"text-align: right;\">\n",
       "      <th></th>\n",
       "      <th>Model</th>\n",
       "      <th>RMSE</th>\n",
       "      <th>R-Squared</th>\n",
       "    </tr>\n",
       "  </thead>\n",
       "  <tbody>\n",
       "    <tr>\n",
       "      <th>0</th>\n",
       "      <td>Linear Regression Model</td>\n",
       "      <td>1.005570</td>\n",
       "      <td>0.007670</td>\n",
       "    </tr>\n",
       "    <tr>\n",
       "      <th>1</th>\n",
       "      <td>Random Forest Regression</td>\n",
       "      <td>0.598186</td>\n",
       "      <td>0.803833</td>\n",
       "    </tr>\n",
       "  </tbody>\n",
       "</table>\n",
       "</div>\n",
       "      <button class=\"colab-df-convert\" onclick=\"convertToInteractive('df-20d851cf-84c3-45c2-81de-184ae242e948')\"\n",
       "              title=\"Convert this dataframe to an interactive table.\"\n",
       "              style=\"display:none;\">\n",
       "        \n",
       "  <svg xmlns=\"http://www.w3.org/2000/svg\" height=\"24px\"viewBox=\"0 0 24 24\"\n",
       "       width=\"24px\">\n",
       "    <path d=\"M0 0h24v24H0V0z\" fill=\"none\"/>\n",
       "    <path d=\"M18.56 5.44l.94 2.06.94-2.06 2.06-.94-2.06-.94-.94-2.06-.94 2.06-2.06.94zm-11 1L8.5 8.5l.94-2.06 2.06-.94-2.06-.94L8.5 2.5l-.94 2.06-2.06.94zm10 10l.94 2.06.94-2.06 2.06-.94-2.06-.94-.94-2.06-.94 2.06-2.06.94z\"/><path d=\"M17.41 7.96l-1.37-1.37c-.4-.4-.92-.59-1.43-.59-.52 0-1.04.2-1.43.59L10.3 9.45l-7.72 7.72c-.78.78-.78 2.05 0 2.83L4 21.41c.39.39.9.59 1.41.59.51 0 1.02-.2 1.41-.59l7.78-7.78 2.81-2.81c.8-.78.8-2.07 0-2.86zM5.41 20L4 18.59l7.72-7.72 1.47 1.35L5.41 20z\"/>\n",
       "  </svg>\n",
       "      </button>\n",
       "      \n",
       "  <style>\n",
       "    .colab-df-container {\n",
       "      display:flex;\n",
       "      flex-wrap:wrap;\n",
       "      gap: 12px;\n",
       "    }\n",
       "\n",
       "    .colab-df-convert {\n",
       "      background-color: #E8F0FE;\n",
       "      border: none;\n",
       "      border-radius: 50%;\n",
       "      cursor: pointer;\n",
       "      display: none;\n",
       "      fill: #1967D2;\n",
       "      height: 32px;\n",
       "      padding: 0 0 0 0;\n",
       "      width: 32px;\n",
       "    }\n",
       "\n",
       "    .colab-df-convert:hover {\n",
       "      background-color: #E2EBFA;\n",
       "      box-shadow: 0px 1px 2px rgba(60, 64, 67, 0.3), 0px 1px 3px 1px rgba(60, 64, 67, 0.15);\n",
       "      fill: #174EA6;\n",
       "    }\n",
       "\n",
       "    [theme=dark] .colab-df-convert {\n",
       "      background-color: #3B4455;\n",
       "      fill: #D2E3FC;\n",
       "    }\n",
       "\n",
       "    [theme=dark] .colab-df-convert:hover {\n",
       "      background-color: #434B5C;\n",
       "      box-shadow: 0px 1px 3px 1px rgba(0, 0, 0, 0.15);\n",
       "      filter: drop-shadow(0px 1px 2px rgba(0, 0, 0, 0.3));\n",
       "      fill: #FFFFFF;\n",
       "    }\n",
       "  </style>\n",
       "\n",
       "      <script>\n",
       "        const buttonEl =\n",
       "          document.querySelector('#df-20d851cf-84c3-45c2-81de-184ae242e948 button.colab-df-convert');\n",
       "        buttonEl.style.display =\n",
       "          google.colab.kernel.accessAllowed ? 'block' : 'none';\n",
       "\n",
       "        async function convertToInteractive(key) {\n",
       "          const element = document.querySelector('#df-20d851cf-84c3-45c2-81de-184ae242e948');\n",
       "          const dataTable =\n",
       "            await google.colab.kernel.invokeFunction('convertToInteractive',\n",
       "                                                     [key], {});\n",
       "          if (!dataTable) return;\n",
       "\n",
       "          const docLinkHtml = 'Like what you see? Visit the ' +\n",
       "            '<a target=\"_blank\" href=https://colab.research.google.com/notebooks/data_table.ipynb>data table notebook</a>'\n",
       "            + ' to learn more about interactive tables.';\n",
       "          element.innerHTML = '';\n",
       "          dataTable['output_type'] = 'display_data';\n",
       "          await google.colab.output.renderOutput(dataTable, element);\n",
       "          const docLink = document.createElement('div');\n",
       "          docLink.innerHTML = docLinkHtml;\n",
       "          element.appendChild(docLink);\n",
       "        }\n",
       "      </script>\n",
       "    </div>\n",
       "  </div>\n",
       "  "
      ],
      "text/plain": [
       "                      Model      RMSE  R-Squared\n",
       "0   Linear Regression Model  1.005570   0.007670\n",
       "1  Random Forest Regression  0.598186   0.803833"
      ]
     },
     "execution_count": 54,
     "metadata": {},
     "output_type": "execute_result"
    }
   ],
   "source": [
    "random_forest = pd.DataFrame([[\n",
    "    \"Random Forest Regression\",\n",
    "    np.sqrt(metrics.mean_squared_error(y_test, y_pred_RF)),\n",
    "    np.sqrt(metrics.r2_score(y_test, y_pred_RF))\n",
    "    ]], columns = cols)\n",
    "\n",
    "result_tabulation = pd.concat([result_tabulation, random_forest], ignore_index = True)\n",
    "\n",
    "result_tabulation"
   ]
  }
 ],
 "metadata": {
  "colab": {
   "provenance": []
  },
  "kernelspec": {
   "display_name": "Python 3 (ipykernel)",
   "language": "python",
   "name": "python3"
  },
  "language_info": {
   "codemirror_mode": {
    "name": "ipython",
    "version": 3
   },
   "file_extension": ".py",
   "mimetype": "text/x-python",
   "name": "python",
   "nbconvert_exporter": "python",
   "pygments_lexer": "ipython3",
   "version": "3.9.13"
  }
 },
 "nbformat": 4,
 "nbformat_minor": 1
}
